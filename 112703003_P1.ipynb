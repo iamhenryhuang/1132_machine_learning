{
 "cells": [
  {
   "cell_type": "code",
   "execution_count": 54,
   "id": "ea4864d9",
   "metadata": {},
   "outputs": [],
   "source": [
    "import numpy as np\n",
    "import os\n",
    "import pandas as pd\n",
    "import time\n",
    "import matplotlib.pyplot as plt\n",
    "\n",
    "from mlxtend.preprocessing import TransactionEncoder\n",
    "from mlxtend.frequent_patterns import apriori\n",
    "from mlxtend.frequent_patterns import fpgrowth\n",
    "from mlxtend.frequent_patterns import association_rules"
   ]
  },
  {
   "cell_type": "code",
   "execution_count": 71,
   "id": "2d97d0d7",
   "metadata": {},
   "outputs": [],
   "source": [
    "# 設置中文字體\n",
    "plt.rcParams['font.sans-serif'] = ['Microsoft JhengHei']  # Windows 常用字體\n",
    "# 若使用其他系統（如 macOS 或 Linux），可嘗試 'SimHei' 或下載其他中文字體\n",
    "plt.rcParams['axes.unicode_minus'] = False  # 解決負號顯示問題"
   ]
  },
  {
   "cell_type": "markdown",
   "id": "3756380a-e6d2-442a-b9bf-25558745f202",
   "metadata": {
    "jp-MarkdownHeadingCollapsed": true
   },
   "source": [
    "# Settings"
   ]
  },
  {
   "cell_type": "code",
   "execution_count": 4,
   "id": "8ab85731",
   "metadata": {},
   "outputs": [],
   "source": [
    "dataDir = \"./P1_Foodmart\"\n",
    "transaction_filename = \"FoodMart-Transactions-1998.csv\"\n",
    "product_filename = \"Product-Lookup.csv\"\n",
    "customer_filename = \"Customer-Lookup.csv\""
   ]
  },
  {
   "cell_type": "markdown",
   "id": "1ea2e777-261c-4513-93a0-60c373d04326",
   "metadata": {},
   "source": [
    "# Input and Data Preprocessing"
   ]
  },
  {
   "cell_type": "markdown",
   "id": "0c2acee2-bd68-4212-91cb-c72262a4c133",
   "metadata": {
    "jp-MarkdownHeadingCollapsed": true
   },
   "source": [
    "## Data: transactions"
   ]
  },
  {
   "cell_type": "code",
   "execution_count": 5,
   "id": "0ff4f9bf-9be7-472c-8c22-169c0859026b",
   "metadata": {},
   "outputs": [],
   "source": [
    "# input: transactions\n",
    "df_trans = pd.read_csv(os.path.join(dataDir,transaction_filename))"
   ]
  },
  {
   "cell_type": "code",
   "execution_count": 6,
   "id": "223c1296",
   "metadata": {},
   "outputs": [
    {
     "data": {
      "text/plain": [
       "(182883, 6)"
      ]
     },
     "execution_count": 6,
     "metadata": {},
     "output_type": "execute_result"
    }
   ],
   "source": [
    "# 會返回一個包含兩個元素的元組 (rows, columns)\n",
    "df_trans.shape"
   ]
  },
  {
   "cell_type": "code",
   "execution_count": 7,
   "id": "cf607d25",
   "metadata": {
    "scrolled": true
   },
   "outputs": [
    {
     "data": {
      "text/html": [
       "<div>\n",
       "<style scoped>\n",
       "    .dataframe tbody tr th:only-of-type {\n",
       "        vertical-align: middle;\n",
       "    }\n",
       "\n",
       "    .dataframe tbody tr th {\n",
       "        vertical-align: top;\n",
       "    }\n",
       "\n",
       "    .dataframe thead th {\n",
       "        text-align: right;\n",
       "    }\n",
       "</style>\n",
       "<table border=\"1\" class=\"dataframe\">\n",
       "  <thead>\n",
       "    <tr style=\"text-align: right;\">\n",
       "      <th></th>\n",
       "      <th>transaction_date</th>\n",
       "      <th>stock_date</th>\n",
       "      <th>product_id</th>\n",
       "      <th>customer_id</th>\n",
       "      <th>store_id</th>\n",
       "      <th>quantity</th>\n",
       "    </tr>\n",
       "  </thead>\n",
       "  <tbody>\n",
       "    <tr>\n",
       "      <th>0</th>\n",
       "      <td>1/1/1998</td>\n",
       "      <td>12/25/1997</td>\n",
       "      <td>4</td>\n",
       "      <td>2439</td>\n",
       "      <td>10</td>\n",
       "      <td>3</td>\n",
       "    </tr>\n",
       "    <tr>\n",
       "      <th>1</th>\n",
       "      <td>1/1/1998</td>\n",
       "      <td>12/28/1997</td>\n",
       "      <td>11</td>\n",
       "      <td>4284</td>\n",
       "      <td>10</td>\n",
       "      <td>3</td>\n",
       "    </tr>\n",
       "    <tr>\n",
       "      <th>2</th>\n",
       "      <td>1/1/1998</td>\n",
       "      <td>12/28/1997</td>\n",
       "      <td>12</td>\n",
       "      <td>534</td>\n",
       "      <td>10</td>\n",
       "      <td>3</td>\n",
       "    </tr>\n",
       "    <tr>\n",
       "      <th>3</th>\n",
       "      <td>1/1/1998</td>\n",
       "      <td>12/29/1997</td>\n",
       "      <td>14</td>\n",
       "      <td>9743</td>\n",
       "      <td>10</td>\n",
       "      <td>2</td>\n",
       "    </tr>\n",
       "    <tr>\n",
       "      <th>4</th>\n",
       "      <td>1/1/1998</td>\n",
       "      <td>12/27/1997</td>\n",
       "      <td>16</td>\n",
       "      <td>3608</td>\n",
       "      <td>10</td>\n",
       "      <td>3</td>\n",
       "    </tr>\n",
       "  </tbody>\n",
       "</table>\n",
       "</div>"
      ],
      "text/plain": [
       "  transaction_date  stock_date  product_id  customer_id  store_id  quantity\n",
       "0         1/1/1998  12/25/1997           4         2439        10         3\n",
       "1         1/1/1998  12/28/1997          11         4284        10         3\n",
       "2         1/1/1998  12/28/1997          12          534        10         3\n",
       "3         1/1/1998  12/29/1997          14         9743        10         2\n",
       "4         1/1/1998  12/27/1997          16         3608        10         3"
      ]
     },
     "execution_count": 7,
     "metadata": {},
     "output_type": "execute_result"
    }
   ],
   "source": [
    "df_trans.head()"
   ]
  },
  {
   "cell_type": "code",
   "execution_count": 8,
   "id": "1eda8638-f6f3-4976-be07-57afdedb0f24",
   "metadata": {},
   "outputs": [
    {
     "data": {
      "text/plain": [
       "product_id\n",
       "382     157\n",
       "277     155\n",
       "284     151\n",
       "274     150\n",
       "865     149\n",
       "       ... \n",
       "594      87\n",
       "1249     87\n",
       "113      83\n",
       "1        59\n",
       "1559     53\n",
       "Name: count, Length: 1559, dtype: int64"
      ]
     },
     "execution_count": 8,
     "metadata": {},
     "output_type": "execute_result"
    }
   ],
   "source": [
    "df_trans[\"product_id\"].value_counts()"
   ]
  },
  {
   "cell_type": "code",
   "execution_count": 9,
   "id": "e8d14470-c7e1-494c-8179-6b3f8b82357a",
   "metadata": {},
   "outputs": [
    {
     "data": {
      "text/plain": [
       "customer_id\n",
       "1787    279\n",
       "1259    236\n",
       "7472    231\n",
       "4386    226\n",
       "4620    226\n",
       "       ... \n",
       "9751      1\n",
       "2157      1\n",
       "6784      1\n",
       "6336      1\n",
       "3781      1\n",
       "Name: count, Length: 8060, dtype: int64"
      ]
     },
     "execution_count": 9,
     "metadata": {},
     "output_type": "execute_result"
    }
   ],
   "source": [
    "df_trans[\"customer_id\"].value_counts()"
   ]
  },
  {
   "cell_type": "markdown",
   "id": "0c423670-1f27-468b-83be-d87a86cfaabf",
   "metadata": {
    "jp-MarkdownHeadingCollapsed": true
   },
   "source": [
    "### Data Transformation"
   ]
  },
  {
   "cell_type": "code",
   "execution_count": 10,
   "id": "cdbd0e49",
   "metadata": {},
   "outputs": [],
   "source": [
    "trans_dataset = df_trans.groupby([\"customer_id\",\"transaction_date\"])['product_id'].apply(list)"
   ]
  },
  {
   "cell_type": "code",
   "execution_count": 11,
   "id": "af0ead7c",
   "metadata": {},
   "outputs": [
    {
     "data": {
      "text/plain": [
       "customer_id  transaction_date\n",
       "3            3/29/1998              [520, 672, 803, 986, 1056, 1063, 1418]\n",
       "             4/17/1998                     [470, 670, 680, 747, 886, 1196]\n",
       "6            1/16/1998                                           [75, 917]\n",
       "             12/16/1998                             [701, 708, 1045, 1477]\n",
       "             6/25/1998                               [391, 647, 997, 1506]\n",
       "                                                   ...                    \n",
       "10280        8/23/1998           [51, 404, 461, 571, 654, 910, 1153, 1386]\n",
       "10281        1/7/1998                         [280, 949, 1066, 1299, 1395]\n",
       "             6/23/1998                      [3, 313, 941, 962, 1145, 1345]\n",
       "             7/17/1998           [209, 429, 519, 592, 708, 941, 945, 1111]\n",
       "             8/1/1998                                    [519, 1001, 1112]\n",
       "Name: product_id, Length: 37786, dtype: object"
      ]
     },
     "execution_count": 11,
     "metadata": {},
     "output_type": "execute_result"
    }
   ],
   "source": [
    "trans_dataset"
   ]
  },
  {
   "cell_type": "code",
   "execution_count": 12,
   "id": "99cd9beb",
   "metadata": {},
   "outputs": [],
   "source": [
    "raw_transactions = list(trans_dataset)"
   ]
  },
  {
   "cell_type": "code",
   "execution_count": 13,
   "id": "974b272b-cfdf-4600-8fa6-f216b82af4bf",
   "metadata": {},
   "outputs": [
    {
     "name": "stdout",
     "output_type": "stream",
     "text": [
      "37786\n"
     ]
    }
   ],
   "source": [
    "print(len(raw_transactions))"
   ]
  },
  {
   "cell_type": "code",
   "execution_count": 14,
   "id": "81edea5c-d65b-49f5-8597-4cea29b76ae7",
   "metadata": {},
   "outputs": [
    {
     "data": {
      "text/plain": [
       "[[520, 672, 803, 986, 1056, 1063, 1418],\n",
       " [470, 670, 680, 747, 886, 1196],\n",
       " [75, 917],\n",
       " [701, 708, 1045, 1477],\n",
       " [391, 647, 997, 1506]]"
      ]
     },
     "execution_count": 14,
     "metadata": {},
     "output_type": "execute_result"
    }
   ],
   "source": [
    "raw_transactions[:5]"
   ]
  },
  {
   "cell_type": "markdown",
   "id": "4bdec22a-86cf-403d-86a8-33e11aae3170",
   "metadata": {
    "jp-MarkdownHeadingCollapsed": true
   },
   "source": [
    "### Transaction encoding for Lib: mlxtend"
   ]
  },
  {
   "cell_type": "code",
   "execution_count": 15,
   "id": "5dc0e2ee",
   "metadata": {},
   "outputs": [],
   "source": [
    "te = TransactionEncoder()\n",
    "te_trans = te.fit(raw_transactions).transform(raw_transactions)\n",
    "# te.fix(raw_transactions) 分析 raw_transactions 中的所有唯一項目（產品 ID），並建立一個映射，將每個產品 ID 對應到一個列索引。\n",
    "# .transform(raw_transactions)：將交易數據轉換為二進制矩陣，row數等於交易數量（37786），column數等於唯一產品數量（1559）。矩陣中的元素是 True（表示該產品出現在該交易中）或 False（表示該產品未出現）。"
   ]
  },
  {
   "cell_type": "code",
   "execution_count": 16,
   "id": "5e8f4388-adcb-419b-a746-d4d4e755c1bc",
   "metadata": {
    "scrolled": true
   },
   "outputs": [
    {
     "name": "stdout",
     "output_type": "stream",
     "text": [
      "<class 'numpy.ndarray'>\n",
      "(37786, 1559)\n"
     ]
    },
    {
     "data": {
      "text/plain": [
       "array([[False, False, False, ..., False, False, False],\n",
       "       [False, False, False, ..., False, False, False],\n",
       "       [False, False, False, ..., False, False, False],\n",
       "       ...,\n",
       "       [False, False,  True, ..., False, False, False],\n",
       "       [False, False, False, ..., False, False, False],\n",
       "       [False, False, False, ..., False, False, False]])"
      ]
     },
     "execution_count": 16,
     "metadata": {},
     "output_type": "execute_result"
    }
   ],
   "source": [
    "print(type(te_trans))\n",
    "print(te_trans.shape)\n",
    "te_trans"
   ]
  },
  {
   "cell_type": "code",
   "execution_count": 17,
   "id": "c61d5af6-5f75-4358-9a89-fe4f422a513d",
   "metadata": {},
   "outputs": [
    {
     "data": {
      "text/plain": [
       "[1, 2, 3, 4, 5, 6, 7, 8, 9, 10]"
      ]
     },
     "execution_count": 17,
     "metadata": {},
     "output_type": "execute_result"
    }
   ],
   "source": [
    "# product_id\n",
    "te.columns_[:10]"
   ]
  },
  {
   "cell_type": "markdown",
   "id": "d5675b91-ff52-42d3-835e-5fe73b35cec4",
   "metadata": {
    "jp-MarkdownHeadingCollapsed": true
   },
   "source": [
    "## Data: product"
   ]
  },
  {
   "cell_type": "code",
   "execution_count": 18,
   "id": "e1f12de0-518f-4c54-a523-3cf97195efff",
   "metadata": {},
   "outputs": [],
   "source": [
    "# input: products\n",
    "df_prod = pd.read_csv(os.path.join(dataDir, product_filename))"
   ]
  },
  {
   "cell_type": "code",
   "execution_count": 19,
   "id": "0c8c0b66-2b39-44df-abef-9e26653d023e",
   "metadata": {
    "scrolled": true
   },
   "outputs": [
    {
     "data": {
      "text/plain": [
       "(1560, 9)"
      ]
     },
     "execution_count": 19,
     "metadata": {},
     "output_type": "execute_result"
    }
   ],
   "source": [
    "df_prod.shape"
   ]
  },
  {
   "cell_type": "code",
   "execution_count": 20,
   "id": "5bc05fd2",
   "metadata": {
    "scrolled": true
   },
   "outputs": [
    {
     "data": {
      "text/html": [
       "<div>\n",
       "<style scoped>\n",
       "    .dataframe tbody tr th:only-of-type {\n",
       "        vertical-align: middle;\n",
       "    }\n",
       "\n",
       "    .dataframe tbody tr th {\n",
       "        vertical-align: top;\n",
       "    }\n",
       "\n",
       "    .dataframe thead th {\n",
       "        text-align: right;\n",
       "    }\n",
       "</style>\n",
       "<table border=\"1\" class=\"dataframe\">\n",
       "  <thead>\n",
       "    <tr style=\"text-align: right;\">\n",
       "      <th></th>\n",
       "      <th>product_id</th>\n",
       "      <th>product_brand</th>\n",
       "      <th>product_name</th>\n",
       "      <th>product_sku</th>\n",
       "      <th>product_retail_price</th>\n",
       "      <th>product_cost</th>\n",
       "      <th>product_weight</th>\n",
       "      <th>recyclable</th>\n",
       "      <th>low_fat</th>\n",
       "    </tr>\n",
       "  </thead>\n",
       "  <tbody>\n",
       "    <tr>\n",
       "      <th>0</th>\n",
       "      <td>1</td>\n",
       "      <td>Washington</td>\n",
       "      <td>Washington Berry Juice</td>\n",
       "      <td>90748583674</td>\n",
       "      <td>2.85</td>\n",
       "      <td>0.94</td>\n",
       "      <td>8.39</td>\n",
       "      <td>NaN</td>\n",
       "      <td>NaN</td>\n",
       "    </tr>\n",
       "    <tr>\n",
       "      <th>1</th>\n",
       "      <td>2</td>\n",
       "      <td>Washington</td>\n",
       "      <td>Washington Mango Drink</td>\n",
       "      <td>96516502499</td>\n",
       "      <td>0.74</td>\n",
       "      <td>0.26</td>\n",
       "      <td>7.42</td>\n",
       "      <td>NaN</td>\n",
       "      <td>1.0</td>\n",
       "    </tr>\n",
       "    <tr>\n",
       "      <th>2</th>\n",
       "      <td>3</td>\n",
       "      <td>Washington</td>\n",
       "      <td>Washington Strawberry Drink</td>\n",
       "      <td>58427771925</td>\n",
       "      <td>0.83</td>\n",
       "      <td>0.40</td>\n",
       "      <td>13.10</td>\n",
       "      <td>1.0</td>\n",
       "      <td>1.0</td>\n",
       "    </tr>\n",
       "    <tr>\n",
       "      <th>3</th>\n",
       "      <td>4</td>\n",
       "      <td>Washington</td>\n",
       "      <td>Washington Cream Soda</td>\n",
       "      <td>64412155747</td>\n",
       "      <td>3.64</td>\n",
       "      <td>1.64</td>\n",
       "      <td>10.60</td>\n",
       "      <td>1.0</td>\n",
       "      <td>NaN</td>\n",
       "    </tr>\n",
       "    <tr>\n",
       "      <th>4</th>\n",
       "      <td>5</td>\n",
       "      <td>Washington</td>\n",
       "      <td>Washington Diet Soda</td>\n",
       "      <td>85561191439</td>\n",
       "      <td>2.19</td>\n",
       "      <td>0.77</td>\n",
       "      <td>6.66</td>\n",
       "      <td>1.0</td>\n",
       "      <td>NaN</td>\n",
       "    </tr>\n",
       "  </tbody>\n",
       "</table>\n",
       "</div>"
      ],
      "text/plain": [
       "   product_id product_brand                 product_name  product_sku  \\\n",
       "0           1    Washington       Washington Berry Juice  90748583674   \n",
       "1           2    Washington       Washington Mango Drink  96516502499   \n",
       "2           3    Washington  Washington Strawberry Drink  58427771925   \n",
       "3           4    Washington        Washington Cream Soda  64412155747   \n",
       "4           5    Washington         Washington Diet Soda  85561191439   \n",
       "\n",
       "   product_retail_price  product_cost  product_weight  recyclable  low_fat  \n",
       "0                  2.85          0.94            8.39         NaN      NaN  \n",
       "1                  0.74          0.26            7.42         NaN      1.0  \n",
       "2                  0.83          0.40           13.10         1.0      1.0  \n",
       "3                  3.64          1.64           10.60         1.0      NaN  \n",
       "4                  2.19          0.77            6.66         1.0      NaN  "
      ]
     },
     "execution_count": 20,
     "metadata": {},
     "output_type": "execute_result"
    }
   ],
   "source": [
    "df_prod.head()"
   ]
  },
  {
   "cell_type": "markdown",
   "id": "5834eae7-6615-437c-bd57-4177a0190956",
   "metadata": {
    "jp-MarkdownHeadingCollapsed": true
   },
   "source": [
    "### Filtering"
   ]
  },
  {
   "cell_type": "code",
   "execution_count": 21,
   "id": "909bb249-1b51-4842-9e81-0b6325e12b43",
   "metadata": {
    "scrolled": true
   },
   "outputs": [
    {
     "data": {
      "text/plain": [
       "{1560}"
      ]
     },
     "execution_count": 21,
     "metadata": {},
     "output_type": "execute_result"
    }
   ],
   "source": [
    "# 找出產品清單中定義但交易數據中未出現的產品 ID。\n",
    "set(df_prod[\"product_id\"].unique()).difference(set(te.columns_)) # 差集操作：返回 setA 中有但 setB 中沒有的元素。"
   ]
  },
  {
   "cell_type": "code",
   "execution_count": 22,
   "id": "eaf6e649",
   "metadata": {},
   "outputs": [],
   "source": [
    "# 過濾 df_prod DataFrame，只保留那些 \"product_id\" 出現在 te.columns_ 中的行，並將結果重新賦值給 df_prod。\n",
    "# 確保產品清單（df_prod）與交易數據中實際出現的產品（te.columns_）保持一致。\n",
    "df_prod = df_prod[df_prod[\"product_id\"].isin(te.columns_)] # 檢查 df_prod[\"product_id\"] 中的每個值是否出現在 te.columns_ 中。"
   ]
  },
  {
   "cell_type": "code",
   "execution_count": 23,
   "id": "5d86fb84-1d21-4de7-82af-90824900ae65",
   "metadata": {},
   "outputs": [
    {
     "data": {
      "text/plain": [
       "(1559, 9)"
      ]
     },
     "execution_count": 23,
     "metadata": {},
     "output_type": "execute_result"
    }
   ],
   "source": [
    "df_prod.shape"
   ]
  },
  {
   "cell_type": "markdown",
   "id": "2b658760-f2ce-4ec8-a3d9-39bac5aa6418",
   "metadata": {
    "jp-MarkdownHeadingCollapsed": true
   },
   "source": [
    "### Data preprocessing"
   ]
  },
  {
   "cell_type": "code",
   "execution_count": 24,
   "id": "4bfc3dd0",
   "metadata": {},
   "outputs": [],
   "source": [
    "df_te = pd.DataFrame(te_trans, columns = df_prod['product_name'])"
   ]
  },
  {
   "cell_type": "code",
   "execution_count": 25,
   "id": "5941f682",
   "metadata": {},
   "outputs": [
    {
     "name": "stdout",
     "output_type": "stream",
     "text": [
      "(37786, 1559)\n"
     ]
    },
    {
     "data": {
      "text/html": [
       "<div>\n",
       "<style scoped>\n",
       "    .dataframe tbody tr th:only-of-type {\n",
       "        vertical-align: middle;\n",
       "    }\n",
       "\n",
       "    .dataframe tbody tr th {\n",
       "        vertical-align: top;\n",
       "    }\n",
       "\n",
       "    .dataframe thead th {\n",
       "        text-align: right;\n",
       "    }\n",
       "</style>\n",
       "<table border=\"1\" class=\"dataframe\">\n",
       "  <thead>\n",
       "    <tr style=\"text-align: right;\">\n",
       "      <th>product_name</th>\n",
       "      <th>Washington Berry Juice</th>\n",
       "      <th>Washington Mango Drink</th>\n",
       "      <th>Washington Strawberry Drink</th>\n",
       "      <th>Washington Cream Soda</th>\n",
       "      <th>Washington Diet Soda</th>\n",
       "      <th>Washington Cola</th>\n",
       "      <th>Washington Diet Cola</th>\n",
       "      <th>Washington Orange Juice</th>\n",
       "      <th>Washington Cranberry Juice</th>\n",
       "      <th>Washington Apple Juice</th>\n",
       "      <th>...</th>\n",
       "      <th>CDR Apple Butter</th>\n",
       "      <th>CDR Oregano</th>\n",
       "      <th>CDR Apple Jelly</th>\n",
       "      <th>CDR Grape Jam</th>\n",
       "      <th>CDR Apple Jam</th>\n",
       "      <th>CDR Strawberry Jam</th>\n",
       "      <th>CDR Creamy Peanut Butter</th>\n",
       "      <th>CDR Strawberry Preserves</th>\n",
       "      <th>CDR Extra Chunky Peanut Butter</th>\n",
       "      <th>CDR Apple Preserves</th>\n",
       "    </tr>\n",
       "  </thead>\n",
       "  <tbody>\n",
       "    <tr>\n",
       "      <th>0</th>\n",
       "      <td>False</td>\n",
       "      <td>False</td>\n",
       "      <td>False</td>\n",
       "      <td>False</td>\n",
       "      <td>False</td>\n",
       "      <td>False</td>\n",
       "      <td>False</td>\n",
       "      <td>False</td>\n",
       "      <td>False</td>\n",
       "      <td>False</td>\n",
       "      <td>...</td>\n",
       "      <td>False</td>\n",
       "      <td>False</td>\n",
       "      <td>False</td>\n",
       "      <td>False</td>\n",
       "      <td>False</td>\n",
       "      <td>False</td>\n",
       "      <td>False</td>\n",
       "      <td>False</td>\n",
       "      <td>False</td>\n",
       "      <td>False</td>\n",
       "    </tr>\n",
       "    <tr>\n",
       "      <th>1</th>\n",
       "      <td>False</td>\n",
       "      <td>False</td>\n",
       "      <td>False</td>\n",
       "      <td>False</td>\n",
       "      <td>False</td>\n",
       "      <td>False</td>\n",
       "      <td>False</td>\n",
       "      <td>False</td>\n",
       "      <td>False</td>\n",
       "      <td>False</td>\n",
       "      <td>...</td>\n",
       "      <td>False</td>\n",
       "      <td>False</td>\n",
       "      <td>False</td>\n",
       "      <td>False</td>\n",
       "      <td>False</td>\n",
       "      <td>False</td>\n",
       "      <td>False</td>\n",
       "      <td>False</td>\n",
       "      <td>False</td>\n",
       "      <td>False</td>\n",
       "    </tr>\n",
       "    <tr>\n",
       "      <th>2</th>\n",
       "      <td>False</td>\n",
       "      <td>False</td>\n",
       "      <td>False</td>\n",
       "      <td>False</td>\n",
       "      <td>False</td>\n",
       "      <td>False</td>\n",
       "      <td>False</td>\n",
       "      <td>False</td>\n",
       "      <td>False</td>\n",
       "      <td>False</td>\n",
       "      <td>...</td>\n",
       "      <td>False</td>\n",
       "      <td>False</td>\n",
       "      <td>False</td>\n",
       "      <td>False</td>\n",
       "      <td>False</td>\n",
       "      <td>False</td>\n",
       "      <td>False</td>\n",
       "      <td>False</td>\n",
       "      <td>False</td>\n",
       "      <td>False</td>\n",
       "    </tr>\n",
       "    <tr>\n",
       "      <th>3</th>\n",
       "      <td>False</td>\n",
       "      <td>False</td>\n",
       "      <td>False</td>\n",
       "      <td>False</td>\n",
       "      <td>False</td>\n",
       "      <td>False</td>\n",
       "      <td>False</td>\n",
       "      <td>False</td>\n",
       "      <td>False</td>\n",
       "      <td>False</td>\n",
       "      <td>...</td>\n",
       "      <td>False</td>\n",
       "      <td>False</td>\n",
       "      <td>False</td>\n",
       "      <td>False</td>\n",
       "      <td>False</td>\n",
       "      <td>False</td>\n",
       "      <td>False</td>\n",
       "      <td>False</td>\n",
       "      <td>False</td>\n",
       "      <td>False</td>\n",
       "    </tr>\n",
       "    <tr>\n",
       "      <th>4</th>\n",
       "      <td>False</td>\n",
       "      <td>False</td>\n",
       "      <td>False</td>\n",
       "      <td>False</td>\n",
       "      <td>False</td>\n",
       "      <td>False</td>\n",
       "      <td>False</td>\n",
       "      <td>False</td>\n",
       "      <td>False</td>\n",
       "      <td>False</td>\n",
       "      <td>...</td>\n",
       "      <td>False</td>\n",
       "      <td>False</td>\n",
       "      <td>False</td>\n",
       "      <td>False</td>\n",
       "      <td>False</td>\n",
       "      <td>False</td>\n",
       "      <td>False</td>\n",
       "      <td>False</td>\n",
       "      <td>False</td>\n",
       "      <td>False</td>\n",
       "    </tr>\n",
       "  </tbody>\n",
       "</table>\n",
       "<p>5 rows × 1559 columns</p>\n",
       "</div>"
      ],
      "text/plain": [
       "product_name  Washington Berry Juice  Washington Mango Drink  \\\n",
       "0                              False                   False   \n",
       "1                              False                   False   \n",
       "2                              False                   False   \n",
       "3                              False                   False   \n",
       "4                              False                   False   \n",
       "\n",
       "product_name  Washington Strawberry Drink  Washington Cream Soda  \\\n",
       "0                                   False                  False   \n",
       "1                                   False                  False   \n",
       "2                                   False                  False   \n",
       "3                                   False                  False   \n",
       "4                                   False                  False   \n",
       "\n",
       "product_name  Washington Diet Soda  Washington Cola  Washington Diet Cola  \\\n",
       "0                            False            False                 False   \n",
       "1                            False            False                 False   \n",
       "2                            False            False                 False   \n",
       "3                            False            False                 False   \n",
       "4                            False            False                 False   \n",
       "\n",
       "product_name  Washington Orange Juice  Washington Cranberry Juice  \\\n",
       "0                               False                       False   \n",
       "1                               False                       False   \n",
       "2                               False                       False   \n",
       "3                               False                       False   \n",
       "4                               False                       False   \n",
       "\n",
       "product_name  Washington Apple Juice  ...  CDR Apple Butter  CDR Oregano  \\\n",
       "0                              False  ...             False        False   \n",
       "1                              False  ...             False        False   \n",
       "2                              False  ...             False        False   \n",
       "3                              False  ...             False        False   \n",
       "4                              False  ...             False        False   \n",
       "\n",
       "product_name  CDR Apple Jelly  CDR Grape Jam  CDR Apple Jam  \\\n",
       "0                       False          False          False   \n",
       "1                       False          False          False   \n",
       "2                       False          False          False   \n",
       "3                       False          False          False   \n",
       "4                       False          False          False   \n",
       "\n",
       "product_name  CDR Strawberry Jam  CDR Creamy Peanut Butter  \\\n",
       "0                          False                     False   \n",
       "1                          False                     False   \n",
       "2                          False                     False   \n",
       "3                          False                     False   \n",
       "4                          False                     False   \n",
       "\n",
       "product_name  CDR Strawberry Preserves  CDR Extra Chunky Peanut Butter  \\\n",
       "0                                False                           False   \n",
       "1                                False                           False   \n",
       "2                                False                           False   \n",
       "3                                False                           False   \n",
       "4                                False                           False   \n",
       "\n",
       "product_name  CDR Apple Preserves  \n",
       "0                           False  \n",
       "1                           False  \n",
       "2                           False  \n",
       "3                           False  \n",
       "4                           False  \n",
       "\n",
       "[5 rows x 1559 columns]"
      ]
     },
     "execution_count": 25,
     "metadata": {},
     "output_type": "execute_result"
    }
   ],
   "source": [
    "print(df_te.shape)\n",
    "df_te.head()"
   ]
  },
  {
   "cell_type": "markdown",
   "id": "8be586a9-3ccd-4fa6-99a1-156649958716",
   "metadata": {
    "jp-MarkdownHeadingCollapsed": true
   },
   "source": [
    "# Association Analysis"
   ]
  },
  {
   "cell_type": "markdown",
   "id": "9400ac89-8278-4603-9271-07f884b1c2fe",
   "metadata": {
    "jp-MarkdownHeadingCollapsed": true
   },
   "source": [
    "## Threshold setting"
   ]
  },
  {
   "cell_type": "code",
   "execution_count": 26,
   "id": "4e0f39fe-688e-4b81-aca6-0b2bed0791c5",
   "metadata": {},
   "outputs": [],
   "source": [
    "min_sup = 0.00015\n",
    "min_conf = 0.8"
   ]
  },
  {
   "cell_type": "code",
   "execution_count": 27,
   "id": "9c6a2c32-ab65-4ee8-a91c-c545ffa6fffb",
   "metadata": {},
   "outputs": [
    {
     "name": "stdout",
     "output_type": "stream",
     "text": [
      "5.6678999999999995\n"
     ]
    }
   ],
   "source": [
    "support_count = min_sup * df_te.shape[0]\n",
    "print(support_count)"
   ]
  },
  {
   "cell_type": "markdown",
   "id": "f40f8152-6989-4948-bb46-5008c77c3f38",
   "metadata": {
    "jp-MarkdownHeadingCollapsed": true
   },
   "source": [
    "## Frequent pattern/itemset discovering"
   ]
  },
  {
   "cell_type": "code",
   "execution_count": 28,
   "id": "83a0de3f",
   "metadata": {},
   "outputs": [
    {
     "name": "stdout",
     "output_type": "stream",
     "text": [
      "208.44927954673767 seconds\n"
     ]
    }
   ],
   "source": [
    "# 測量 Apriori 執行所需的時間\n",
    "start_time = time.time()\n",
    "frequent_itemsets = fpgrowth(df_te, min_support = min_sup, use_colnames = True)\n",
    "end_time = time.time()\n",
    "print(str(end_time - start_time) + \" seconds\")"
   ]
  },
  {
   "cell_type": "code",
   "execution_count": 29,
   "id": "7565d545",
   "metadata": {},
   "outputs": [
    {
     "data": {
      "text/html": [
       "<div>\n",
       "<style scoped>\n",
       "    .dataframe tbody tr th:only-of-type {\n",
       "        vertical-align: middle;\n",
       "    }\n",
       "\n",
       "    .dataframe tbody tr th {\n",
       "        vertical-align: top;\n",
       "    }\n",
       "\n",
       "    .dataframe thead th {\n",
       "        text-align: right;\n",
       "    }\n",
       "</style>\n",
       "<table border=\"1\" class=\"dataframe\">\n",
       "  <thead>\n",
       "    <tr style=\"text-align: right;\">\n",
       "      <th></th>\n",
       "      <th>support</th>\n",
       "      <th>itemsets</th>\n",
       "    </tr>\n",
       "  </thead>\n",
       "  <tbody>\n",
       "    <tr>\n",
       "      <th>954</th>\n",
       "      <td>0.004155</td>\n",
       "      <td>(Moms Roasted Chicken)</td>\n",
       "    </tr>\n",
       "    <tr>\n",
       "      <th>796</th>\n",
       "      <td>0.004102</td>\n",
       "      <td>(Great English Muffins)</td>\n",
       "    </tr>\n",
       "    <tr>\n",
       "      <th>861</th>\n",
       "      <td>0.003996</td>\n",
       "      <td>(Super Chunky Peanut Butter)</td>\n",
       "    </tr>\n",
       "    <tr>\n",
       "      <th>1013</th>\n",
       "      <td>0.003970</td>\n",
       "      <td>(Great Pumpernickel Bread)</td>\n",
       "    </tr>\n",
       "    <tr>\n",
       "      <th>1401</th>\n",
       "      <td>0.003943</td>\n",
       "      <td>(Nationeel Dried Apples)</td>\n",
       "    </tr>\n",
       "    <tr>\n",
       "      <th>...</th>\n",
       "      <td>...</td>\n",
       "      <td>...</td>\n",
       "    </tr>\n",
       "    <tr>\n",
       "      <th>2145</th>\n",
       "      <td>0.000159</td>\n",
       "      <td>(Golden Chicken TV Dinner, Just Right Fancy Ca...</td>\n",
       "    </tr>\n",
       "    <tr>\n",
       "      <th>2144</th>\n",
       "      <td>0.000159</td>\n",
       "      <td>(Fort West Golden Raisins, Sphinx Cranberry Mu...</td>\n",
       "    </tr>\n",
       "    <tr>\n",
       "      <th>2143</th>\n",
       "      <td>0.000159</td>\n",
       "      <td>(Hilltop Dishwasher Detergent, Cormorant Fryin...</td>\n",
       "    </tr>\n",
       "    <tr>\n",
       "      <th>2142</th>\n",
       "      <td>0.000159</td>\n",
       "      <td>(Cormorant Frying Pan, Denny Frying Pan)</td>\n",
       "    </tr>\n",
       "    <tr>\n",
       "      <th>3014</th>\n",
       "      <td>0.000159</td>\n",
       "      <td>(Queen Eyeglass Screwdriver, Club Chocolate Milk)</td>\n",
       "    </tr>\n",
       "  </tbody>\n",
       "</table>\n",
       "<p>3015 rows × 2 columns</p>\n",
       "</div>"
      ],
      "text/plain": [
       "       support                                           itemsets\n",
       "954   0.004155                             (Moms Roasted Chicken)\n",
       "796   0.004102                            (Great English Muffins)\n",
       "861   0.003996                       (Super Chunky Peanut Butter)\n",
       "1013  0.003970                         (Great Pumpernickel Bread)\n",
       "1401  0.003943                           (Nationeel Dried Apples)\n",
       "...        ...                                                ...\n",
       "2145  0.000159  (Golden Chicken TV Dinner, Just Right Fancy Ca...\n",
       "2144  0.000159  (Fort West Golden Raisins, Sphinx Cranberry Mu...\n",
       "2143  0.000159  (Hilltop Dishwasher Detergent, Cormorant Fryin...\n",
       "2142  0.000159           (Cormorant Frying Pan, Denny Frying Pan)\n",
       "3014  0.000159  (Queen Eyeglass Screwdriver, Club Chocolate Milk)\n",
       "\n",
       "[3015 rows x 2 columns]"
      ]
     },
     "execution_count": 29,
     "metadata": {},
     "output_type": "execute_result"
    }
   ],
   "source": [
    "frequent_itemsets.sort_values(by=[\"support\"], ascending = False)"
   ]
  },
  {
   "cell_type": "markdown",
   "id": "26707127-58a8-4033-a286-6b089da9b82b",
   "metadata": {
    "jp-MarkdownHeadingCollapsed": true
   },
   "source": [
    "## Association rule discovering"
   ]
  },
  {
   "cell_type": "markdown",
   "id": "29c019c3",
   "metadata": {},
   "source": [
    "### 列出 Lift 最高的前10條 Rules"
   ]
  },
  {
   "cell_type": "code",
   "execution_count": 30,
   "id": "14243f47",
   "metadata": {
    "scrolled": true
   },
   "outputs": [],
   "source": [
    "# 列出 Lift 最高的前10條 Rules\n",
    "rules = association_rules(frequent_itemsets, metric=\"confidence\", min_threshold=min_conf).sort_values(by='lift', ascending=False)"
   ]
  },
  {
   "cell_type": "code",
   "execution_count": 31,
   "id": "9e99fdb1",
   "metadata": {},
   "outputs": [
    {
     "data": {
      "text/html": [
       "<div>\n",
       "<style scoped>\n",
       "    .dataframe tbody tr th:only-of-type {\n",
       "        vertical-align: middle;\n",
       "    }\n",
       "\n",
       "    .dataframe tbody tr th {\n",
       "        vertical-align: top;\n",
       "    }\n",
       "\n",
       "    .dataframe thead th {\n",
       "        text-align: right;\n",
       "    }\n",
       "</style>\n",
       "<table border=\"1\" class=\"dataframe\">\n",
       "  <thead>\n",
       "    <tr style=\"text-align: right;\">\n",
       "      <th></th>\n",
       "      <th>antecedents</th>\n",
       "      <th>consequents</th>\n",
       "      <th>antecedent support</th>\n",
       "      <th>consequent support</th>\n",
       "      <th>support</th>\n",
       "      <th>confidence</th>\n",
       "      <th>lift</th>\n",
       "      <th>representativity</th>\n",
       "      <th>leverage</th>\n",
       "      <th>conviction</th>\n",
       "      <th>zhangs_metric</th>\n",
       "      <th>jaccard</th>\n",
       "      <th>certainty</th>\n",
       "      <th>kulczynski</th>\n",
       "    </tr>\n",
       "  </thead>\n",
       "  <tbody>\n",
       "    <tr>\n",
       "      <th>10</th>\n",
       "      <td>(Just Right Canned Yams, Hilltop 200 MG Acetom...</td>\n",
       "      <td>(Faux Products HCL Nasal Spray)</td>\n",
       "      <td>0.000159</td>\n",
       "      <td>0.002964</td>\n",
       "      <td>0.000159</td>\n",
       "      <td>1.000000</td>\n",
       "      <td>337.375000</td>\n",
       "      <td>1.0</td>\n",
       "      <td>0.000158</td>\n",
       "      <td>inf</td>\n",
       "      <td>0.997194</td>\n",
       "      <td>0.053571</td>\n",
       "      <td>1.000000</td>\n",
       "      <td>0.526786</td>\n",
       "    </tr>\n",
       "    <tr>\n",
       "      <th>1</th>\n",
       "      <td>(CDR Hot Chocolate, Imagine Low Fat French Fries)</td>\n",
       "      <td>(Quick Extra Lean Hamburger)</td>\n",
       "      <td>0.000185</td>\n",
       "      <td>0.003123</td>\n",
       "      <td>0.000185</td>\n",
       "      <td>1.000000</td>\n",
       "      <td>320.220339</td>\n",
       "      <td>1.0</td>\n",
       "      <td>0.000185</td>\n",
       "      <td>inf</td>\n",
       "      <td>0.997062</td>\n",
       "      <td>0.059322</td>\n",
       "      <td>1.000000</td>\n",
       "      <td>0.529661</td>\n",
       "    </tr>\n",
       "    <tr>\n",
       "      <th>6</th>\n",
       "      <td>(Booker Low Fat String Cheese, Bravo Fancy Can...</td>\n",
       "      <td>(High Top Oranges)</td>\n",
       "      <td>0.000159</td>\n",
       "      <td>0.003202</td>\n",
       "      <td>0.000159</td>\n",
       "      <td>1.000000</td>\n",
       "      <td>312.280992</td>\n",
       "      <td>1.0</td>\n",
       "      <td>0.000158</td>\n",
       "      <td>inf</td>\n",
       "      <td>0.996956</td>\n",
       "      <td>0.049587</td>\n",
       "      <td>1.000000</td>\n",
       "      <td>0.524793</td>\n",
       "    </tr>\n",
       "    <tr>\n",
       "      <th>13</th>\n",
       "      <td>(High Quality Scissors, Plato French Roast Cof...</td>\n",
       "      <td>(Dollar Monthly Sports Magazine)</td>\n",
       "      <td>0.000159</td>\n",
       "      <td>0.003202</td>\n",
       "      <td>0.000159</td>\n",
       "      <td>1.000000</td>\n",
       "      <td>312.280992</td>\n",
       "      <td>1.0</td>\n",
       "      <td>0.000158</td>\n",
       "      <td>inf</td>\n",
       "      <td>0.996956</td>\n",
       "      <td>0.049587</td>\n",
       "      <td>1.000000</td>\n",
       "      <td>0.524793</td>\n",
       "    </tr>\n",
       "    <tr>\n",
       "      <th>15</th>\n",
       "      <td>(Cormorant Scented Toilet Tissue, Hilltop 200 ...</td>\n",
       "      <td>(Horatio No Salt Popcorn)</td>\n",
       "      <td>0.000159</td>\n",
       "      <td>0.003335</td>\n",
       "      <td>0.000159</td>\n",
       "      <td>1.000000</td>\n",
       "      <td>299.888889</td>\n",
       "      <td>1.0</td>\n",
       "      <td>0.000158</td>\n",
       "      <td>inf</td>\n",
       "      <td>0.996824</td>\n",
       "      <td>0.047619</td>\n",
       "      <td>1.000000</td>\n",
       "      <td>0.523810</td>\n",
       "    </tr>\n",
       "    <tr>\n",
       "      <th>0</th>\n",
       "      <td>(CDR Hot Chocolate, Quick Extra Lean Hamburger)</td>\n",
       "      <td>(Imagine Low Fat French Fries)</td>\n",
       "      <td>0.000212</td>\n",
       "      <td>0.002991</td>\n",
       "      <td>0.000185</td>\n",
       "      <td>0.875000</td>\n",
       "      <td>292.590708</td>\n",
       "      <td>1.0</td>\n",
       "      <td>0.000185</td>\n",
       "      <td>7.976076</td>\n",
       "      <td>0.996793</td>\n",
       "      <td>0.061404</td>\n",
       "      <td>0.874625</td>\n",
       "      <td>0.468473</td>\n",
       "    </tr>\n",
       "    <tr>\n",
       "      <th>8</th>\n",
       "      <td>(Imagine Frozen Cheese Pizza, BBB Best Tomato ...</td>\n",
       "      <td>(Best Choice Apple Fruit Roll)</td>\n",
       "      <td>0.000185</td>\n",
       "      <td>0.002938</td>\n",
       "      <td>0.000159</td>\n",
       "      <td>0.857143</td>\n",
       "      <td>291.783784</td>\n",
       "      <td>1.0</td>\n",
       "      <td>0.000158</td>\n",
       "      <td>6.979437</td>\n",
       "      <td>0.996757</td>\n",
       "      <td>0.053571</td>\n",
       "      <td>0.856722</td>\n",
       "      <td>0.455598</td>\n",
       "    </tr>\n",
       "    <tr>\n",
       "      <th>2</th>\n",
       "      <td>(High Top New Potatos, Even Better Sharp Chedd...</td>\n",
       "      <td>(High Top Summer Squash)</td>\n",
       "      <td>0.000185</td>\n",
       "      <td>0.003070</td>\n",
       "      <td>0.000159</td>\n",
       "      <td>0.857143</td>\n",
       "      <td>279.206897</td>\n",
       "      <td>1.0</td>\n",
       "      <td>0.000158</td>\n",
       "      <td>6.978511</td>\n",
       "      <td>0.996603</td>\n",
       "      <td>0.051282</td>\n",
       "      <td>0.856703</td>\n",
       "      <td>0.454433</td>\n",
       "    </tr>\n",
       "    <tr>\n",
       "      <th>4</th>\n",
       "      <td>(High Top Summer Squash, Even Better Sharp Che...</td>\n",
       "      <td>(High Top New Potatos)</td>\n",
       "      <td>0.000159</td>\n",
       "      <td>0.003732</td>\n",
       "      <td>0.000159</td>\n",
       "      <td>1.000000</td>\n",
       "      <td>267.985816</td>\n",
       "      <td>1.0</td>\n",
       "      <td>0.000158</td>\n",
       "      <td>inf</td>\n",
       "      <td>0.996427</td>\n",
       "      <td>0.042553</td>\n",
       "      <td>1.000000</td>\n",
       "      <td>0.521277</td>\n",
       "    </tr>\n",
       "    <tr>\n",
       "      <th>12</th>\n",
       "      <td>(Dollar Monthly Sports Magazine, Plato French ...</td>\n",
       "      <td>(High Quality Scissors)</td>\n",
       "      <td>0.000185</td>\n",
       "      <td>0.003229</td>\n",
       "      <td>0.000159</td>\n",
       "      <td>0.857143</td>\n",
       "      <td>265.475410</td>\n",
       "      <td>1.0</td>\n",
       "      <td>0.000158</td>\n",
       "      <td>6.977399</td>\n",
       "      <td>0.996418</td>\n",
       "      <td>0.048780</td>\n",
       "      <td>0.856680</td>\n",
       "      <td>0.453162</td>\n",
       "    </tr>\n",
       "  </tbody>\n",
       "</table>\n",
       "</div>"
      ],
      "text/plain": [
       "                                          antecedents  \\\n",
       "10  (Just Right Canned Yams, Hilltop 200 MG Acetom...   \n",
       "1   (CDR Hot Chocolate, Imagine Low Fat French Fries)   \n",
       "6   (Booker Low Fat String Cheese, Bravo Fancy Can...   \n",
       "13  (High Quality Scissors, Plato French Roast Cof...   \n",
       "15  (Cormorant Scented Toilet Tissue, Hilltop 200 ...   \n",
       "0     (CDR Hot Chocolate, Quick Extra Lean Hamburger)   \n",
       "8   (Imagine Frozen Cheese Pizza, BBB Best Tomato ...   \n",
       "2   (High Top New Potatos, Even Better Sharp Chedd...   \n",
       "4   (High Top Summer Squash, Even Better Sharp Che...   \n",
       "12  (Dollar Monthly Sports Magazine, Plato French ...   \n",
       "\n",
       "                         consequents  antecedent support  consequent support  \\\n",
       "10   (Faux Products HCL Nasal Spray)            0.000159            0.002964   \n",
       "1       (Quick Extra Lean Hamburger)            0.000185            0.003123   \n",
       "6                 (High Top Oranges)            0.000159            0.003202   \n",
       "13  (Dollar Monthly Sports Magazine)            0.000159            0.003202   \n",
       "15         (Horatio No Salt Popcorn)            0.000159            0.003335   \n",
       "0     (Imagine Low Fat French Fries)            0.000212            0.002991   \n",
       "8     (Best Choice Apple Fruit Roll)            0.000185            0.002938   \n",
       "2           (High Top Summer Squash)            0.000185            0.003070   \n",
       "4             (High Top New Potatos)            0.000159            0.003732   \n",
       "12           (High Quality Scissors)            0.000185            0.003229   \n",
       "\n",
       "     support  confidence        lift  representativity  leverage  conviction  \\\n",
       "10  0.000159    1.000000  337.375000               1.0  0.000158         inf   \n",
       "1   0.000185    1.000000  320.220339               1.0  0.000185         inf   \n",
       "6   0.000159    1.000000  312.280992               1.0  0.000158         inf   \n",
       "13  0.000159    1.000000  312.280992               1.0  0.000158         inf   \n",
       "15  0.000159    1.000000  299.888889               1.0  0.000158         inf   \n",
       "0   0.000185    0.875000  292.590708               1.0  0.000185    7.976076   \n",
       "8   0.000159    0.857143  291.783784               1.0  0.000158    6.979437   \n",
       "2   0.000159    0.857143  279.206897               1.0  0.000158    6.978511   \n",
       "4   0.000159    1.000000  267.985816               1.0  0.000158         inf   \n",
       "12  0.000159    0.857143  265.475410               1.0  0.000158    6.977399   \n",
       "\n",
       "    zhangs_metric   jaccard  certainty  kulczynski  \n",
       "10       0.997194  0.053571   1.000000    0.526786  \n",
       "1        0.997062  0.059322   1.000000    0.529661  \n",
       "6        0.996956  0.049587   1.000000    0.524793  \n",
       "13       0.996956  0.049587   1.000000    0.524793  \n",
       "15       0.996824  0.047619   1.000000    0.523810  \n",
       "0        0.996793  0.061404   0.874625    0.468473  \n",
       "8        0.996757  0.053571   0.856722    0.455598  \n",
       "2        0.996603  0.051282   0.856703    0.454433  \n",
       "4        0.996427  0.042553   1.000000    0.521277  \n",
       "12       0.996418  0.048780   0.856680    0.453162  "
      ]
     },
     "execution_count": 31,
     "metadata": {},
     "output_type": "execute_result"
    }
   ],
   "source": [
    "rules.head(10)"
   ]
  },
  {
   "cell_type": "markdown",
   "id": "b1a32888",
   "metadata": {},
   "source": [
    "### 列出 Confidence 最高的前10條 Rules"
   ]
  },
  {
   "cell_type": "code",
   "execution_count": 32,
   "id": "6afdbd6a",
   "metadata": {},
   "outputs": [],
   "source": [
    "# 列出 Confidence 最高的前10條 Rules\n",
    "rules = association_rules(frequent_itemsets, metric=\"confidence\", min_threshold=min_conf).sort_values(by='confidence', ascending=False)"
   ]
  },
  {
   "cell_type": "code",
   "execution_count": 33,
   "id": "066aa592",
   "metadata": {},
   "outputs": [
    {
     "data": {
      "text/html": [
       "<div>\n",
       "<style scoped>\n",
       "    .dataframe tbody tr th:only-of-type {\n",
       "        vertical-align: middle;\n",
       "    }\n",
       "\n",
       "    .dataframe tbody tr th {\n",
       "        vertical-align: top;\n",
       "    }\n",
       "\n",
       "    .dataframe thead th {\n",
       "        text-align: right;\n",
       "    }\n",
       "</style>\n",
       "<table border=\"1\" class=\"dataframe\">\n",
       "  <thead>\n",
       "    <tr style=\"text-align: right;\">\n",
       "      <th></th>\n",
       "      <th>antecedents</th>\n",
       "      <th>consequents</th>\n",
       "      <th>antecedent support</th>\n",
       "      <th>consequent support</th>\n",
       "      <th>support</th>\n",
       "      <th>confidence</th>\n",
       "      <th>lift</th>\n",
       "      <th>representativity</th>\n",
       "      <th>leverage</th>\n",
       "      <th>conviction</th>\n",
       "      <th>zhangs_metric</th>\n",
       "      <th>jaccard</th>\n",
       "      <th>certainty</th>\n",
       "      <th>kulczynski</th>\n",
       "    </tr>\n",
       "  </thead>\n",
       "  <tbody>\n",
       "    <tr>\n",
       "      <th>10</th>\n",
       "      <td>(Just Right Canned Yams, Hilltop 200 MG Acetom...</td>\n",
       "      <td>(Faux Products HCL Nasal Spray)</td>\n",
       "      <td>0.000159</td>\n",
       "      <td>0.002964</td>\n",
       "      <td>0.000159</td>\n",
       "      <td>1.000000</td>\n",
       "      <td>337.375000</td>\n",
       "      <td>1.0</td>\n",
       "      <td>0.000158</td>\n",
       "      <td>inf</td>\n",
       "      <td>0.997194</td>\n",
       "      <td>0.053571</td>\n",
       "      <td>1.000000</td>\n",
       "      <td>0.526786</td>\n",
       "    </tr>\n",
       "    <tr>\n",
       "      <th>15</th>\n",
       "      <td>(Cormorant Scented Toilet Tissue, Hilltop 200 ...</td>\n",
       "      <td>(Horatio No Salt Popcorn)</td>\n",
       "      <td>0.000159</td>\n",
       "      <td>0.003335</td>\n",
       "      <td>0.000159</td>\n",
       "      <td>1.000000</td>\n",
       "      <td>299.888889</td>\n",
       "      <td>1.0</td>\n",
       "      <td>0.000158</td>\n",
       "      <td>inf</td>\n",
       "      <td>0.996824</td>\n",
       "      <td>0.047619</td>\n",
       "      <td>1.000000</td>\n",
       "      <td>0.523810</td>\n",
       "    </tr>\n",
       "    <tr>\n",
       "      <th>4</th>\n",
       "      <td>(High Top Summer Squash, Even Better Sharp Che...</td>\n",
       "      <td>(High Top New Potatos)</td>\n",
       "      <td>0.000159</td>\n",
       "      <td>0.003732</td>\n",
       "      <td>0.000159</td>\n",
       "      <td>1.000000</td>\n",
       "      <td>267.985816</td>\n",
       "      <td>1.0</td>\n",
       "      <td>0.000158</td>\n",
       "      <td>inf</td>\n",
       "      <td>0.996427</td>\n",
       "      <td>0.042553</td>\n",
       "      <td>1.000000</td>\n",
       "      <td>0.521277</td>\n",
       "    </tr>\n",
       "    <tr>\n",
       "      <th>13</th>\n",
       "      <td>(High Quality Scissors, Plato French Roast Cof...</td>\n",
       "      <td>(Dollar Monthly Sports Magazine)</td>\n",
       "      <td>0.000159</td>\n",
       "      <td>0.003202</td>\n",
       "      <td>0.000159</td>\n",
       "      <td>1.000000</td>\n",
       "      <td>312.280992</td>\n",
       "      <td>1.0</td>\n",
       "      <td>0.000158</td>\n",
       "      <td>inf</td>\n",
       "      <td>0.996956</td>\n",
       "      <td>0.049587</td>\n",
       "      <td>1.000000</td>\n",
       "      <td>0.524793</td>\n",
       "    </tr>\n",
       "    <tr>\n",
       "      <th>6</th>\n",
       "      <td>(Booker Low Fat String Cheese, Bravo Fancy Can...</td>\n",
       "      <td>(High Top Oranges)</td>\n",
       "      <td>0.000159</td>\n",
       "      <td>0.003202</td>\n",
       "      <td>0.000159</td>\n",
       "      <td>1.000000</td>\n",
       "      <td>312.280992</td>\n",
       "      <td>1.0</td>\n",
       "      <td>0.000158</td>\n",
       "      <td>inf</td>\n",
       "      <td>0.996956</td>\n",
       "      <td>0.049587</td>\n",
       "      <td>1.000000</td>\n",
       "      <td>0.524793</td>\n",
       "    </tr>\n",
       "    <tr>\n",
       "      <th>1</th>\n",
       "      <td>(CDR Hot Chocolate, Imagine Low Fat French Fries)</td>\n",
       "      <td>(Quick Extra Lean Hamburger)</td>\n",
       "      <td>0.000185</td>\n",
       "      <td>0.003123</td>\n",
       "      <td>0.000185</td>\n",
       "      <td>1.000000</td>\n",
       "      <td>320.220339</td>\n",
       "      <td>1.0</td>\n",
       "      <td>0.000185</td>\n",
       "      <td>inf</td>\n",
       "      <td>0.997062</td>\n",
       "      <td>0.059322</td>\n",
       "      <td>1.000000</td>\n",
       "      <td>0.529661</td>\n",
       "    </tr>\n",
       "    <tr>\n",
       "      <th>0</th>\n",
       "      <td>(CDR Hot Chocolate, Quick Extra Lean Hamburger)</td>\n",
       "      <td>(Imagine Low Fat French Fries)</td>\n",
       "      <td>0.000212</td>\n",
       "      <td>0.002991</td>\n",
       "      <td>0.000185</td>\n",
       "      <td>0.875000</td>\n",
       "      <td>292.590708</td>\n",
       "      <td>1.0</td>\n",
       "      <td>0.000185</td>\n",
       "      <td>7.976076</td>\n",
       "      <td>0.996793</td>\n",
       "      <td>0.061404</td>\n",
       "      <td>0.874625</td>\n",
       "      <td>0.468473</td>\n",
       "    </tr>\n",
       "    <tr>\n",
       "      <th>14</th>\n",
       "      <td>(Cormorant Scented Toilet Tissue, Horatio No S...</td>\n",
       "      <td>(Hilltop 200 MG Acetominifen)</td>\n",
       "      <td>0.000185</td>\n",
       "      <td>0.003520</td>\n",
       "      <td>0.000159</td>\n",
       "      <td>0.857143</td>\n",
       "      <td>243.518797</td>\n",
       "      <td>1.0</td>\n",
       "      <td>0.000158</td>\n",
       "      <td>6.975361</td>\n",
       "      <td>0.996078</td>\n",
       "      <td>0.044776</td>\n",
       "      <td>0.856638</td>\n",
       "      <td>0.451128</td>\n",
       "    </tr>\n",
       "    <tr>\n",
       "      <th>12</th>\n",
       "      <td>(Dollar Monthly Sports Magazine, Plato French ...</td>\n",
       "      <td>(High Quality Scissors)</td>\n",
       "      <td>0.000185</td>\n",
       "      <td>0.003229</td>\n",
       "      <td>0.000159</td>\n",
       "      <td>0.857143</td>\n",
       "      <td>265.475410</td>\n",
       "      <td>1.0</td>\n",
       "      <td>0.000158</td>\n",
       "      <td>6.977399</td>\n",
       "      <td>0.996418</td>\n",
       "      <td>0.048780</td>\n",
       "      <td>0.856680</td>\n",
       "      <td>0.453162</td>\n",
       "    </tr>\n",
       "    <tr>\n",
       "      <th>11</th>\n",
       "      <td>(Dollar Monthly Sports Magazine, High Quality ...</td>\n",
       "      <td>(Plato French Roast Coffee)</td>\n",
       "      <td>0.000185</td>\n",
       "      <td>0.003282</td>\n",
       "      <td>0.000159</td>\n",
       "      <td>0.857143</td>\n",
       "      <td>261.193548</td>\n",
       "      <td>1.0</td>\n",
       "      <td>0.000158</td>\n",
       "      <td>6.977029</td>\n",
       "      <td>0.996356</td>\n",
       "      <td>0.048000</td>\n",
       "      <td>0.856673</td>\n",
       "      <td>0.452765</td>\n",
       "    </tr>\n",
       "  </tbody>\n",
       "</table>\n",
       "</div>"
      ],
      "text/plain": [
       "                                          antecedents  \\\n",
       "10  (Just Right Canned Yams, Hilltop 200 MG Acetom...   \n",
       "15  (Cormorant Scented Toilet Tissue, Hilltop 200 ...   \n",
       "4   (High Top Summer Squash, Even Better Sharp Che...   \n",
       "13  (High Quality Scissors, Plato French Roast Cof...   \n",
       "6   (Booker Low Fat String Cheese, Bravo Fancy Can...   \n",
       "1   (CDR Hot Chocolate, Imagine Low Fat French Fries)   \n",
       "0     (CDR Hot Chocolate, Quick Extra Lean Hamburger)   \n",
       "14  (Cormorant Scented Toilet Tissue, Horatio No S...   \n",
       "12  (Dollar Monthly Sports Magazine, Plato French ...   \n",
       "11  (Dollar Monthly Sports Magazine, High Quality ...   \n",
       "\n",
       "                         consequents  antecedent support  consequent support  \\\n",
       "10   (Faux Products HCL Nasal Spray)            0.000159            0.002964   \n",
       "15         (Horatio No Salt Popcorn)            0.000159            0.003335   \n",
       "4             (High Top New Potatos)            0.000159            0.003732   \n",
       "13  (Dollar Monthly Sports Magazine)            0.000159            0.003202   \n",
       "6                 (High Top Oranges)            0.000159            0.003202   \n",
       "1       (Quick Extra Lean Hamburger)            0.000185            0.003123   \n",
       "0     (Imagine Low Fat French Fries)            0.000212            0.002991   \n",
       "14     (Hilltop 200 MG Acetominifen)            0.000185            0.003520   \n",
       "12           (High Quality Scissors)            0.000185            0.003229   \n",
       "11       (Plato French Roast Coffee)            0.000185            0.003282   \n",
       "\n",
       "     support  confidence        lift  representativity  leverage  conviction  \\\n",
       "10  0.000159    1.000000  337.375000               1.0  0.000158         inf   \n",
       "15  0.000159    1.000000  299.888889               1.0  0.000158         inf   \n",
       "4   0.000159    1.000000  267.985816               1.0  0.000158         inf   \n",
       "13  0.000159    1.000000  312.280992               1.0  0.000158         inf   \n",
       "6   0.000159    1.000000  312.280992               1.0  0.000158         inf   \n",
       "1   0.000185    1.000000  320.220339               1.0  0.000185         inf   \n",
       "0   0.000185    0.875000  292.590708               1.0  0.000185    7.976076   \n",
       "14  0.000159    0.857143  243.518797               1.0  0.000158    6.975361   \n",
       "12  0.000159    0.857143  265.475410               1.0  0.000158    6.977399   \n",
       "11  0.000159    0.857143  261.193548               1.0  0.000158    6.977029   \n",
       "\n",
       "    zhangs_metric   jaccard  certainty  kulczynski  \n",
       "10       0.997194  0.053571   1.000000    0.526786  \n",
       "15       0.996824  0.047619   1.000000    0.523810  \n",
       "4        0.996427  0.042553   1.000000    0.521277  \n",
       "13       0.996956  0.049587   1.000000    0.524793  \n",
       "6        0.996956  0.049587   1.000000    0.524793  \n",
       "1        0.997062  0.059322   1.000000    0.529661  \n",
       "0        0.996793  0.061404   0.874625    0.468473  \n",
       "14       0.996078  0.044776   0.856638    0.451128  \n",
       "12       0.996418  0.048780   0.856680    0.453162  \n",
       "11       0.996356  0.048000   0.856673    0.452765  "
      ]
     },
     "execution_count": 33,
     "metadata": {},
     "output_type": "execute_result"
    }
   ],
   "source": [
    "rules.head(10)"
   ]
  },
  {
   "cell_type": "markdown",
   "id": "a8f89219-db56-4bfa-b140-bb36c721d7bb",
   "metadata": {
    "jp-MarkdownHeadingCollapsed": true
   },
   "source": [
    "# Customers"
   ]
  },
  {
   "cell_type": "code",
   "execution_count": 34,
   "id": "30ba6a2c-89a7-48db-a21c-016538cac7d7",
   "metadata": {},
   "outputs": [],
   "source": [
    "df_cust = pd.read_csv(os.path.join(dataDir,customer_filename))"
   ]
  },
  {
   "cell_type": "code",
   "execution_count": 35,
   "id": "95b65d84-c9dd-4a54-9522-0de1075c8e08",
   "metadata": {},
   "outputs": [
    {
     "data": {
      "text/plain": [
       "(10281, 20)"
      ]
     },
     "execution_count": 35,
     "metadata": {},
     "output_type": "execute_result"
    }
   ],
   "source": [
    "df_cust.shape"
   ]
  },
  {
   "cell_type": "code",
   "execution_count": 36,
   "id": "f479fcbc",
   "metadata": {},
   "outputs": [
    {
     "data": {
      "text/html": [
       "<div>\n",
       "<style scoped>\n",
       "    .dataframe tbody tr th:only-of-type {\n",
       "        vertical-align: middle;\n",
       "    }\n",
       "\n",
       "    .dataframe tbody tr th {\n",
       "        vertical-align: top;\n",
       "    }\n",
       "\n",
       "    .dataframe thead th {\n",
       "        text-align: right;\n",
       "    }\n",
       "</style>\n",
       "<table border=\"1\" class=\"dataframe\">\n",
       "  <thead>\n",
       "    <tr style=\"text-align: right;\">\n",
       "      <th></th>\n",
       "      <th>customer_id</th>\n",
       "      <th>customer_acct_num</th>\n",
       "      <th>first_name</th>\n",
       "      <th>last_name</th>\n",
       "      <th>customer_address</th>\n",
       "      <th>customer_city</th>\n",
       "      <th>customer_state_province</th>\n",
       "      <th>customer_postal_code</th>\n",
       "      <th>customer_country</th>\n",
       "      <th>birthdate</th>\n",
       "      <th>marital_status</th>\n",
       "      <th>yearly_income</th>\n",
       "      <th>gender</th>\n",
       "      <th>total_children</th>\n",
       "      <th>num_children_at_home</th>\n",
       "      <th>education</th>\n",
       "      <th>acct_open_date</th>\n",
       "      <th>member_card</th>\n",
       "      <th>occupation</th>\n",
       "      <th>homeowner</th>\n",
       "    </tr>\n",
       "  </thead>\n",
       "  <tbody>\n",
       "    <tr>\n",
       "      <th>10276</th>\n",
       "      <td>10277</td>\n",
       "      <td>87439274191</td>\n",
       "      <td>Fran</td>\n",
       "      <td>Ross</td>\n",
       "      <td>5603 Blackridge Drive</td>\n",
       "      <td>Lake Oswego</td>\n",
       "      <td>OR</td>\n",
       "      <td>52724</td>\n",
       "      <td>USA</td>\n",
       "      <td>2/9/1974</td>\n",
       "      <td>M</td>\n",
       "      <td>$90K - $110K</td>\n",
       "      <td>M</td>\n",
       "      <td>4</td>\n",
       "      <td>3</td>\n",
       "      <td>Partial High School</td>\n",
       "      <td>3/14/1991</td>\n",
       "      <td>Bronze</td>\n",
       "      <td>Management</td>\n",
       "      <td>N</td>\n",
       "    </tr>\n",
       "    <tr>\n",
       "      <th>10277</th>\n",
       "      <td>10278</td>\n",
       "      <td>87448420500</td>\n",
       "      <td>Myreda</td>\n",
       "      <td>Calahoo</td>\n",
       "      <td>263 La Orinda Pl.</td>\n",
       "      <td>N. Vancouver</td>\n",
       "      <td>BC</td>\n",
       "      <td>71758</td>\n",
       "      <td>Canada</td>\n",
       "      <td>12/8/1926</td>\n",
       "      <td>M</td>\n",
       "      <td>$30K - $50K</td>\n",
       "      <td>F</td>\n",
       "      <td>0</td>\n",
       "      <td>0</td>\n",
       "      <td>Partial College</td>\n",
       "      <td>3/20/1992</td>\n",
       "      <td>Bronze</td>\n",
       "      <td>Professional</td>\n",
       "      <td>N</td>\n",
       "    </tr>\n",
       "    <tr>\n",
       "      <th>10278</th>\n",
       "      <td>10279</td>\n",
       "      <td>87453135848</td>\n",
       "      <td>Mary</td>\n",
       "      <td>Ayers</td>\n",
       "      <td>6885 Auburn</td>\n",
       "      <td>Lincoln Acres</td>\n",
       "      <td>CA</td>\n",
       "      <td>42550</td>\n",
       "      <td>USA</td>\n",
       "      <td>5/18/1913</td>\n",
       "      <td>S</td>\n",
       "      <td>$130K - $150K</td>\n",
       "      <td>M</td>\n",
       "      <td>3</td>\n",
       "      <td>0</td>\n",
       "      <td>Partial High School</td>\n",
       "      <td>11/22/1991</td>\n",
       "      <td>Bronze</td>\n",
       "      <td>Management</td>\n",
       "      <td>Y</td>\n",
       "    </tr>\n",
       "    <tr>\n",
       "      <th>10279</th>\n",
       "      <td>10280</td>\n",
       "      <td>87458639740</td>\n",
       "      <td>Ernest</td>\n",
       "      <td>Aiello</td>\n",
       "      <td>5077 Bannock Ct.</td>\n",
       "      <td>Puyallup</td>\n",
       "      <td>WA</td>\n",
       "      <td>27746</td>\n",
       "      <td>USA</td>\n",
       "      <td>9/6/1968</td>\n",
       "      <td>M</td>\n",
       "      <td>$150K +</td>\n",
       "      <td>F</td>\n",
       "      <td>5</td>\n",
       "      <td>2</td>\n",
       "      <td>High School Degree</td>\n",
       "      <td>5/26/1991</td>\n",
       "      <td>Golden</td>\n",
       "      <td>Professional</td>\n",
       "      <td>Y</td>\n",
       "    </tr>\n",
       "    <tr>\n",
       "      <th>10280</th>\n",
       "      <td>10281</td>\n",
       "      <td>87460163235</td>\n",
       "      <td>Samuel</td>\n",
       "      <td>Cartney</td>\n",
       "      <td>4609 Parkway Drive</td>\n",
       "      <td>Vancouver</td>\n",
       "      <td>BC</td>\n",
       "      <td>63699</td>\n",
       "      <td>Canada</td>\n",
       "      <td>7/6/1914</td>\n",
       "      <td>S</td>\n",
       "      <td>$50K - $70K</td>\n",
       "      <td>F</td>\n",
       "      <td>5</td>\n",
       "      <td>0</td>\n",
       "      <td>Bachelors Degree</td>\n",
       "      <td>7/22/1993</td>\n",
       "      <td>Bronze</td>\n",
       "      <td>Management</td>\n",
       "      <td>N</td>\n",
       "    </tr>\n",
       "  </tbody>\n",
       "</table>\n",
       "</div>"
      ],
      "text/plain": [
       "       customer_id  customer_acct_num first_name last_name  \\\n",
       "10276        10277        87439274191       Fran      Ross   \n",
       "10277        10278        87448420500     Myreda   Calahoo   \n",
       "10278        10279        87453135848       Mary     Ayers   \n",
       "10279        10280        87458639740     Ernest    Aiello   \n",
       "10280        10281        87460163235     Samuel   Cartney   \n",
       "\n",
       "            customer_address  customer_city customer_state_province  \\\n",
       "10276  5603 Blackridge Drive    Lake Oswego                      OR   \n",
       "10277      263 La Orinda Pl.   N. Vancouver                      BC   \n",
       "10278            6885 Auburn  Lincoln Acres                      CA   \n",
       "10279       5077 Bannock Ct.       Puyallup                      WA   \n",
       "10280     4609 Parkway Drive      Vancouver                      BC   \n",
       "\n",
       "       customer_postal_code customer_country  birthdate marital_status  \\\n",
       "10276                 52724              USA   2/9/1974              M   \n",
       "10277                 71758           Canada  12/8/1926              M   \n",
       "10278                 42550              USA  5/18/1913              S   \n",
       "10279                 27746              USA   9/6/1968              M   \n",
       "10280                 63699           Canada   7/6/1914              S   \n",
       "\n",
       "       yearly_income gender  total_children  num_children_at_home  \\\n",
       "10276   $90K - $110K      M               4                     3   \n",
       "10277    $30K - $50K      F               0                     0   \n",
       "10278  $130K - $150K      M               3                     0   \n",
       "10279        $150K +      F               5                     2   \n",
       "10280    $50K - $70K      F               5                     0   \n",
       "\n",
       "                 education acct_open_date member_card    occupation homeowner  \n",
       "10276  Partial High School      3/14/1991      Bronze    Management         N  \n",
       "10277      Partial College      3/20/1992      Bronze  Professional         N  \n",
       "10278  Partial High School     11/22/1991      Bronze    Management         Y  \n",
       "10279   High School Degree      5/26/1991      Golden  Professional         Y  \n",
       "10280     Bachelors Degree      7/22/1993      Bronze    Management         N  "
      ]
     },
     "execution_count": 36,
     "metadata": {},
     "output_type": "execute_result"
    }
   ],
   "source": [
    "df_cust.tail()"
   ]
  },
  {
   "cell_type": "code",
   "execution_count": 37,
   "id": "56d1f8ed",
   "metadata": {},
   "outputs": [],
   "source": [
    "# 選擇指定的屬性\n",
    "selected_columns = [\n",
    "    'customer_state_province', 'yearly_income', 'gender', \n",
    "    'total_children', 'num_children_at_home', 'education', \n",
    "    'occupation', 'homeowner'\n",
    "]\n",
    "\n",
    "df_selected = df_cust[selected_columns]"
   ]
  },
  {
   "cell_type": "code",
   "execution_count": 38,
   "id": "360c821e",
   "metadata": {},
   "outputs": [],
   "source": [
    "# 將每個屬性值轉換為 \"屬性=值\" 的形式，作為交易項目\n",
    "transactions = []\n",
    "for _, row in df_selected.iterrows(): # iterrows() 方法返回 DataFrame 中的每一行，並將索引和行數據作為一個 Series 對象返回。\n",
    "    transaction = []\n",
    "    for col in selected_columns:\n",
    "        transaction.append(f\"{col}={row[col]}\")\n",
    "    transactions.append(transaction)"
   ]
  },
  {
   "cell_type": "code",
   "execution_count": 39,
   "id": "6bd07cf6",
   "metadata": {},
   "outputs": [],
   "source": [
    "# 使用 TransactionEncoder 將交易數據轉為二進制矩陣\n",
    "te = TransactionEncoder()\n",
    "te_ary = te.fit(transactions).transform(transactions)\n",
    "df_te = pd.DataFrame(te_ary, columns=te.columns_)"
   ]
  },
  {
   "cell_type": "code",
   "execution_count": 40,
   "id": "a12bc8b2",
   "metadata": {},
   "outputs": [],
   "source": [
    "# 設置最小支持度和置信度\n",
    "min_support = 0.05\n",
    "min_confidence = 0.9"
   ]
  },
  {
   "cell_type": "code",
   "execution_count": 41,
   "id": "360aa19d",
   "metadata": {},
   "outputs": [],
   "source": [
    "# 使用 Apriori 算法挖掘頻繁項集\n",
    "frequent_itemsets = apriori(df_te, min_support=min_support, use_colnames=True)"
   ]
  },
  {
   "cell_type": "code",
   "execution_count": 42,
   "id": "c87817ac",
   "metadata": {},
   "outputs": [],
   "source": [
    "# 挖掘關聯規則\n",
    "rules = association_rules(frequent_itemsets, metric=\"confidence\", min_threshold=min_confidence)"
   ]
  },
  {
   "cell_type": "code",
   "execution_count": 43,
   "id": "9b1a40b9",
   "metadata": {},
   "outputs": [
    {
     "name": "stdout",
     "output_type": "stream",
     "text": [
      "\n",
      "前 10 條關聯規則（按 Lift 排序）：\n",
      "                                                                 antecedents                   consequents support confidence lift\n",
      "                          yearly_income=$50K - $70K, occupation=Professional    education=Bachelors Degree   0.097       0.95 3.73\n",
      "             yearly_income=$50K - $70K, homeowner=Y, occupation=Professional    education=Bachelors Degree   0.054       0.95 3.71\n",
      "  yearly_income=$50K - $70K, occupation=Professional, num_children_at_home=0    education=Bachelors Degree   0.063       0.94 3.70\n",
      "        yearly_income=$10K - $30K, num_children_at_home=0, occupation=Manual education=Partial High School   0.065       0.97 3.22\n",
      "                   occupation=Manual, homeowner=Y, yearly_income=$10K - $30K education=Partial High School   0.060       0.97 3.22\n",
      "                      occupation=Manual, yearly_income=$10K - $30K, gender=F education=Partial High School   0.050       0.97 3.22\n",
      "                                occupation=Manual, yearly_income=$10K - $30K education=Partial High School   0.101       0.96 3.21\n",
      "           occupation=Skilled Manual, homeowner=Y, yearly_income=$10K - $30K education=Partial High School   0.056       0.96 3.21\n",
      "                      gender=M, occupation=Manual, yearly_income=$10K - $30K education=Partial High School   0.051       0.96 3.20\n",
      "occupation=Skilled Manual, num_children_at_home=0, yearly_income=$10K - $30K education=Partial High School   0.060       0.96 3.19\n"
     ]
    }
   ],
   "source": [
    "# 按 lift 排序並選擇前 10 條規則\n",
    "rules_sorted = rules.sort_values(by='lift', ascending=False).head(10)\n",
    "\n",
    "print(\"\\n前 10 條關聯規則（按 Lift 排序）：\")\n",
    "formatted_rules = rules_sorted[['antecedents', 'consequents', 'support', 'confidence', 'lift']].copy()\n",
    "formatted_rules['antecedents'] = formatted_rules['antecedents'].apply(lambda x: ', '.join(list(x)))\n",
    "formatted_rules['consequents'] = formatted_rules['consequents'].apply(lambda x: ', '.join(list(x)))\n",
    "formatted_rules['support'] = formatted_rules['support'].apply(lambda x: f\"{x:.3f}\")\n",
    "formatted_rules['confidence'] = formatted_rules['confidence'].apply(lambda x: f\"{x:.2f}\")\n",
    "formatted_rules['lift'] = formatted_rules['lift'].apply(lambda x: f\"{x:.2f}\")\n",
    "\n",
    "print(formatted_rules.to_string(index=False))"
   ]
  },
  {
   "cell_type": "code",
   "execution_count": 44,
   "id": "9de64f52",
   "metadata": {},
   "outputs": [],
   "source": [
    "# 讀取數據\n",
    "df_trans = pd.read_csv(os.path.join(dataDir, transaction_filename))\n",
    "df_prod = pd.read_csv(os.path.join(dataDir, product_filename))\n",
    "df_cust = pd.read_csv(os.path.join(dataDir, customer_filename))"
   ]
  },
  {
   "cell_type": "code",
   "execution_count": 45,
   "id": "626f512d",
   "metadata": {},
   "outputs": [],
   "source": [
    "# 將 transaction_date 轉為日期格式並提取月份\n",
    "df_trans['transaction_date'] = pd.to_datetime(df_trans['transaction_date'])\n",
    "df_trans['month'] = df_trans['transaction_date'].dt.month"
   ]
  },
  {
   "cell_type": "code",
   "execution_count": 46,
   "id": "e2145f69",
   "metadata": {},
   "outputs": [],
   "source": [
    "# 分割 12 月與 1-11 月的交易數據\n",
    "df_dec = df_trans[df_trans['month'] == 12]\n",
    "df_jan_nov = df_trans[df_trans['month'] != 12]"
   ]
  },
  {
   "cell_type": "code",
   "execution_count": 47,
   "id": "6a403b2d",
   "metadata": {},
   "outputs": [],
   "source": [
    "# 合併交易數據與產品和顧客信息\n",
    "df_dec = df_dec.merge(df_prod[['product_id', 'product_name']], on='product_id', how='left')\n",
    "df_jan_nov = df_jan_nov.merge(df_prod[['product_id', 'product_name']], on='product_id', how='left')\n",
    "df_dec = df_dec.merge(df_cust[['customer_id', 'customer_state_province', 'yearly_income']], on='customer_id', how='left')\n",
    "df_jan_nov = df_jan_nov.merge(df_cust[['customer_id', 'customer_state_province', 'yearly_income']], on='customer_id', how='left')"
   ]
  },
  {
   "cell_type": "code",
   "execution_count": 76,
   "id": "8844ba94",
   "metadata": {},
   "outputs": [
    {
     "name": "stdout",
     "output_type": "stream",
     "text": [
      "12 月交易數量: 18325\n",
      "1-11 月平均交易數量: 14959.82\n",
      "12 月交易占比: 10.02%\n"
     ]
    }
   ],
   "source": [
    "# 1. 交易數量比較\n",
    "dec_trans_count = len(df_dec)\n",
    "jan_nov_trans_count = len(df_jan_nov)\n",
    "jan_nov_trans_count_avg = jan_nov_trans_count / 11\n",
    "print(f\"12 月交易數量: {dec_trans_count}\")\n",
    "print(f\"1-11 月平均交易數量: {jan_nov_trans_count_avg:.2f}\")\n",
    "print(f\"12 月交易占比: {dec_trans_count / (dec_trans_count + jan_nov_trans_count):.2%}\")"
   ]
  },
  {
   "cell_type": "code",
   "execution_count": 82,
   "id": "35938a4b",
   "metadata": {},
   "outputs": [
    {
     "name": "stdout",
     "output_type": "stream",
     "text": [
      "\n",
      "12 月熱門產品 (前 10):\n",
      "product_name\n",
      "Hilltop 200 MG Ibuprofen            25\n",
      "American Sliced Ham                 23\n",
      "Booker Low Fat Cottage Cheese       23\n",
      "Super Grape Jam                     23\n",
      "Moms Roasted Chicken                22\n",
      "Landslide Vegetable Oil             22\n",
      "Urban Large Eggs                    21\n",
      "Sunset 75 Watt Lightbulb            21\n",
      "Hermanos Limes                      21\n",
      "Top Measure White Zinfandel Wine    21\n",
      "Name: count, dtype: int64\n",
      "\n",
      "1-11 月熱門產品 (前 10):\n",
      "product_name\n",
      "Great English Muffins           13.00\n",
      "Carrington Ice Cream            12.73\n",
      "Nationeel Dried Apples          12.55\n",
      "Nationeel Fudge Brownies        12.55\n",
      "Ebony Mixed Nuts                12.45\n",
      "Excellent Orange Juice          12.45\n",
      "Booker String Cheese            12.45\n",
      "Steady Childrens Cold Remedy    12.36\n",
      "Moms Roasted Chicken            12.27\n",
      "Super Chunky Peanut Butter      12.18\n",
      "Name: count, dtype: float64\n"
     ]
    }
   ],
   "source": [
    "# 2. 熱門產品比較\n",
    "dec_top_products = df_dec['product_name'].value_counts().head(10)\n",
    "jan_nov_top_products = df_jan_nov['product_name'].value_counts().head(10)\n",
    "jan_nov_top_products_avg = jan_nov_top_products / 11  # 將 1-11 月總數除以 11 取平均\n",
    "print(\"\\n12 月熱門產品 (前 10):\")\n",
    "print(dec_top_products)\n",
    "print(\"\\n1-11 月熱門產品 (前 10):\")\n",
    "print(jan_nov_top_products_avg.round(2))"
   ]
  },
  {
   "cell_type": "code",
   "execution_count": 83,
   "id": "d41f5268",
   "metadata": {},
   "outputs": [
    {
     "name": "stdout",
     "output_type": "stream",
     "text": [
      "\n",
      "12 月顧客收入分佈:\n",
      "yearly_income\n",
      "$30K - $50K      0.34\n",
      "$10K - $30K      0.22\n",
      "$50K - $70K      0.16\n",
      "$70K - $90K      0.12\n",
      "$130K - $150K    0.05\n",
      "$90K - $110K     0.05\n",
      "$110K - $130K    0.04\n",
      "$150K +          0.02\n",
      "Name: proportion, dtype: float64\n",
      "\n",
      "1-11 月顧客收入分佈:\n",
      "yearly_income\n",
      "$30K - $50K      0.33\n",
      "$10K - $30K      0.22\n",
      "$50K - $70K      0.17\n",
      "$70K - $90K      0.12\n",
      "$130K - $150K    0.05\n",
      "$110K - $130K    0.05\n",
      "$90K - $110K     0.04\n",
      "$150K +          0.02\n",
      "Name: proportion, dtype: float64\n"
     ]
    }
   ],
   "source": [
    "# 3. 顧客屬性分析：收入分佈\n",
    "dec_income_dist = df_dec['yearly_income'].value_counts(normalize=True).sort_values(ascending=False)\n",
    "jan_nov_income_dist = df_jan_nov['yearly_income'].value_counts(normalize=True).sort_values(ascending=False)\n",
    "print(\"\\n12 月顧客收入分佈:\")\n",
    "print(dec_income_dist.round(2))\n",
    "print(\"\\n1-11 月顧客收入分佈:\")\n",
    "print(jan_nov_income_dist.round(2))"
   ]
  },
  {
   "cell_type": "code",
   "execution_count": 84,
   "id": "63b513d6",
   "metadata": {},
   "outputs": [
    {
     "data": {
      "image/png": "[encoded data removed]",
      "text/plain": [
       "<Figure size 1200x600 with 2 Axes>"
      ]
     },
     "metadata": {},
     "output_type": "display_data"
    }
   ],
   "source": [
    "# 圖表 3: 顧客收入分佈 (柱狀圖)\n",
    "plt.figure(figsize=(12, 6))\n",
    "plt.subplot(1, 2, 1)\n",
    "dec_income_dist.plot(kind='bar', color='#FF9999')\n",
    "plt.title('12 月顧客收入分佈', fontsize=14)\n",
    "plt.xlabel('收入範圍', fontsize=12)\n",
    "plt.ylabel('比例', fontsize=12)\n",
    "plt.xticks(rotation=45, ha='right')\n",
    "\n",
    "plt.subplot(1, 2, 2)\n",
    "jan_nov_income_dist.plot(kind='bar', color='#66B2FF')\n",
    "plt.title('1-11 月顧客收入分佈', fontsize=14)\n",
    "plt.xlabel('收入範圍', fontsize=12)\n",
    "plt.ylabel('比例', fontsize=12)\n",
    "plt.xticks(rotation=45, ha='right')\n",
    "plt.tight_layout()\n",
    "plt.show()"
   ]
  },
  {
   "cell_type": "code",
   "execution_count": 85,
   "id": "91ecc6ed",
   "metadata": {},
   "outputs": [
    {
     "name": "stdout",
     "output_type": "stream",
     "text": [
      "\n",
      "12 月顧客地區分佈 (前10):\n",
      "customer_state_province\n",
      "WA           0.26\n",
      "CA           0.14\n",
      "Zacatecas    0.13\n",
      "OR           0.12\n",
      "BC           0.08\n",
      "DF           0.07\n",
      "Yucatan      0.07\n",
      "Veracruz     0.05\n",
      "Guerrero     0.03\n",
      "Sinaloa      0.03\n",
      "Name: proportion, dtype: float64\n",
      "\n",
      "1-11 月顧客地區分佈 (前10):\n",
      "customer_state_province\n",
      "WA           0.25\n",
      "CA           0.14\n",
      "Zacatecas    0.14\n",
      "OR           0.12\n",
      "BC           0.09\n",
      "Yucatan      0.07\n",
      "DF           0.07\n",
      "Veracruz     0.05\n",
      "Guerrero     0.03\n",
      "Mexico       0.02\n",
      "Name: proportion, dtype: float64\n"
     ]
    }
   ],
   "source": [
    "# 4. 地區購物行為比較\n",
    "dec_state_dist = df_dec['customer_state_province'].value_counts(normalize=True).head(10)\n",
    "jan_nov_state_dist = df_jan_nov['customer_state_province'].value_counts(normalize=True).head(10)\n",
    "print(\"\\n12 月顧客地區分佈 (前10):\")\n",
    "print(dec_state_dist.round(2))\n",
    "print(\"\\n1-11 月顧客地區分佈 (前10):\")\n",
    "print(jan_nov_state_dist.round(2))"
   ]
  },
  {
   "cell_type": "code",
   "execution_count": 86,
   "id": "0f8ba906",
   "metadata": {},
   "outputs": [
    {
     "data": {
      "image/png": "[encoded data removed]",
      "text/plain": [
       "<Figure size 1200x600 with 2 Axes>"
      ]
     },
     "metadata": {},
     "output_type": "display_data"
    }
   ],
   "source": [
    "# 圖表 4: 顧客地區分佈 (柱狀圖)\n",
    "plt.figure(figsize=(12, 6))\n",
    "plt.subplot(1, 2, 1)\n",
    "dec_state_dist.plot(kind='bar', color='#FF9999')\n",
    "plt.title('12 月顧客地區分佈 (前 10)', fontsize=14)\n",
    "plt.xlabel('州/省', fontsize=12)\n",
    "plt.ylabel('比例', fontsize=12)\n",
    "plt.xticks(rotation=45, ha='right')\n",
    "\n",
    "plt.subplot(1, 2, 2)\n",
    "jan_nov_state_dist.plot(kind='bar', color='#66B2FF')\n",
    "plt.title('1-11 月顧客地區分佈 (前 10)', fontsize=14)\n",
    "plt.xlabel('州/省', fontsize=12)\n",
    "plt.ylabel('比例', fontsize=12)\n",
    "plt.xticks(rotation=45, ha='right')\n",
    "plt.tight_layout()\n",
    "plt.show()"
   ]
  },
  {
   "cell_type": "code",
   "execution_count": 93,
   "id": "533691aa",
   "metadata": {},
   "outputs": [
    {
     "name": "stdout",
     "output_type": "stream",
     "text": [
      "12 月顧客數量: 2689\n",
      "  一次性顧客 (1 次): 1929, 比例: 71.74%\n",
      "  復購顧客 (>1 次): 760, 比例: 28.26%\n",
      "1-11 月顧客數量: 7824\n",
      "  一次性顧客 (平均 ≤ 1 次): 7259, 比例: 92.78%\n",
      "  復購顧客 (平均 > 1 次): 565, 比例: 7.22%\n"
     ]
    },
    {
     "data": {
      "image/png": "[encoded data removed]",
      "text/plain": [
       "<Figure size 800x600 with 1 Axes>"
      ]
     },
     "metadata": {},
     "output_type": "display_data"
    }
   ],
   "source": [
    "# 5. 交易頻次分析\n",
    "\n",
    "# 按 customer_id 和 transaction_date 分組，計算每位顧客的獨立交易次數\n",
    "dec_customer_trans = df_dec.groupby('customer_id')['transaction_date'].nunique().reset_index()\n",
    "dec_customer_trans.columns = ['customer_id', 'transaction_count']\n",
    "\n",
    "# 1-11 月交易次數取平均（除以 11 個月）\n",
    "jan_nov_customer_trans = df_jan_nov.groupby('customer_id')['transaction_date'].nunique().reset_index()\n",
    "jan_nov_customer_trans.columns = ['customer_id', 'transaction_count']\n",
    "jan_nov_customer_trans['transaction_count'] = (jan_nov_customer_trans['transaction_count'] / 11).round(2)  # 平均並保留小數點後兩位\n",
    "\n",
    "# 分類一次性顧客（≤1 次）與復購顧客（>1 次）\n",
    "# 對於 1-11 月平均值，1 次意味著平均每月交易 ≤ 1 次\n",
    "dec_once = len(dec_customer_trans[dec_customer_trans['transaction_count'] == 1])\n",
    "dec_repeat = len(dec_customer_trans[dec_customer_trans['transaction_count'] > 1])\n",
    "jan_nov_once = len(jan_nov_customer_trans[jan_nov_customer_trans['transaction_count'] <= 1])\n",
    "jan_nov_repeat = len(jan_nov_customer_trans[jan_nov_customer_trans['transaction_count'] > 1])\n",
    "\n",
    "# 計算復購比例\n",
    "dec_total_customers = dec_once + dec_repeat\n",
    "jan_nov_total_customers = jan_nov_once + jan_nov_repeat\n",
    "dec_repeat_ratio = dec_repeat / dec_total_customers if dec_total_customers > 0 else 0\n",
    "jan_nov_repeat_ratio = jan_nov_repeat / jan_nov_total_customers if jan_nov_total_customers > 0 else 0\n",
    "\n",
    "# 輸出結果\n",
    "print(f\"12 月顧客數量: {dec_total_customers}\")\n",
    "print(f\"  一次性顧客 (1 次): {dec_once}, 比例: {dec_once / dec_total_customers:.2%}\")\n",
    "print(f\"  復購顧客 (>1 次): {dec_repeat}, 比例: {dec_repeat_ratio:.2%}\")\n",
    "print(f\"1-11 月顧客數量: {jan_nov_total_customers}\")\n",
    "print(f\"  一次性顧客 (平均 ≤ 1 次): {jan_nov_once}, 比例: {jan_nov_once / jan_nov_total_customers:.2%}\")\n",
    "print(f\"  復購顧客 (平均 > 1 次): {jan_nov_repeat}, 比例: {jan_nov_repeat_ratio:.2%}\")\n",
    "\n",
    "# 圖表 5: 復購比例柱狀圖\n",
    "plt.figure(figsize=(8, 6))\n",
    "plt.bar(['12 月', '1-11 月 (平均)'], [dec_repeat_ratio, jan_nov_repeat_ratio], \n",
    "        color=['#FF9999', '#66B2FF'], width=0.5)\n",
    "plt.title('12 月 vs 1-11 月 (平均) 復購比例', fontsize=14)\n",
    "plt.ylabel('復購比例', fontsize=12)\n",
    "plt.ylim(0, 1)\n",
    "for i, v in enumerate([dec_repeat_ratio, jan_nov_repeat_ratio]):\n",
    "    plt.text(i, v + 0.02, f'{v:.2%}', ha='center', fontsize=12)\n",
    "plt.tight_layout()\n",
    "plt.show()"
   ]
  }
 ],
 "metadata": {
  "kernelspec": {
   "display_name": "Python 3",
   "language": "python",
   "name": "python3"
  },
  "language_info": {
   "codemirror_mode": {
    "name": "ipython",
    "version": 3
   },
   "file_extension": ".py",
   "mimetype": "text/x-python",
   "name": "python",
   "nbconvert_exporter": "python",
   "pygments_lexer": "ipython3",
   "version": "3.12.4"
  }
 },
 "nbformat": 4,
 "nbformat_minor": 5
}
