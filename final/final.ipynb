{
 "cells": [
  {
   "cell_type": "code",
   "execution_count": 17,
   "id": "16006c92",
   "metadata": {},
   "outputs": [
    {
     "ename": "AttributeError",
     "evalue": "'MessageFactory' object has no attribute 'GetPrototype'",
     "output_type": "error",
     "traceback": [
      "\u001b[1;31m---------------------------------------------------------------------------\u001b[0m",
      "\u001b[1;31mAttributeError\u001b[0m                            Traceback (most recent call last)",
      "\u001b[1;31mAttributeError\u001b[0m: 'MessageFactory' object has no attribute 'GetPrototype'"
     ]
    },
    {
     "ename": "AttributeError",
     "evalue": "'MessageFactory' object has no attribute 'GetPrototype'",
     "output_type": "error",
     "traceback": [
      "\u001b[1;31m---------------------------------------------------------------------------\u001b[0m",
      "\u001b[1;31mAttributeError\u001b[0m                            Traceback (most recent call last)",
      "\u001b[1;31mAttributeError\u001b[0m: 'MessageFactory' object has no attribute 'GetPrototype'"
     ]
    },
    {
     "ename": "AttributeError",
     "evalue": "'MessageFactory' object has no attribute 'GetPrototype'",
     "output_type": "error",
     "traceback": [
      "\u001b[1;31m---------------------------------------------------------------------------\u001b[0m",
      "\u001b[1;31mAttributeError\u001b[0m                            Traceback (most recent call last)",
      "\u001b[1;31mAttributeError\u001b[0m: 'MessageFactory' object has no attribute 'GetPrototype'"
     ]
    },
    {
     "ename": "AttributeError",
     "evalue": "'MessageFactory' object has no attribute 'GetPrototype'",
     "output_type": "error",
     "traceback": [
      "\u001b[1;31m---------------------------------------------------------------------------\u001b[0m",
      "\u001b[1;31mAttributeError\u001b[0m                            Traceback (most recent call last)",
      "\u001b[1;31mAttributeError\u001b[0m: 'MessageFactory' object has no attribute 'GetPrototype'"
     ]
    }
   ],
   "source": [
    "import pandas as pd\n",
    "import numpy as np\n",
    "from sklearn.preprocessing import LabelEncoder, OneHotEncoder, StandardScaler\n",
    "from sklearn.impute import SimpleImputer\n",
    "from sklearn.compose import ColumnTransformer\n",
    "from sklearn.pipeline import Pipeline\n",
    "from keras.models import Sequential\n",
    "from keras.layers import Dense, Dropout\n",
    "from keras.optimizers import Adam\n",
    "from sklearn.model_selection import StratifiedKFold\n",
    "\n",
    "# 讀取資料\n",
    "train_df = pd.read_csv(\"train.csv\")\n",
    "test_df = pd.read_csv(\"test.csv\")\n",
    "\n",
    "# 備份 PassengerId 以供輸出\n",
    "passenger_ids = test_df[\"PassengerId\"]\n",
    "\n",
    "# 加上標記以便合併資料做前處理\n",
    "train_df[\"is_train\"] = 1\n",
    "test_df[\"is_train\"] = 0\n",
    "test_df[\"Transported\"] = np.nan # 為 test_df 增加 Transported 欄位，方便合併\n",
    "combined = pd.concat([train_df, test_df], sort=False)"
   ]
  },
  {
   "cell_type": "code",
   "execution_count": 18,
   "id": "07a328dd",
   "metadata": {},
   "outputs": [
    {
     "name": "stdout",
     "output_type": "stream",
     "text": [
      "=== GroupId 基本統計 ===\n",
      "總資料筆數: 8693\n",
      "不重複的 GroupId 數量: 6217\n",
      "平均每個群組人數: 1.40\n",
      "\n",
      "=== 群組大小分布 ===\n",
      "1    4805\n",
      "2     841\n",
      "3     340\n",
      "4     103\n",
      "5      53\n",
      "6      29\n",
      "7      33\n",
      "8      13\n",
      "Name: count, dtype: int64\n"
     ]
    }
   ],
   "source": [
    "import pandas as pd\n",
    "import numpy as np\n",
    "import matplotlib.pyplot as plt\n",
    "import seaborn as sns\n",
    "\n",
    "# 讀取資料並提取 GroupId\n",
    "train_df = pd.read_csv(\"train.csv\")\n",
    "train_df['GroupId'] = train_df['PassengerId'].str.split(\"_\").str[0]\n",
    "\n",
    "print(\"=== GroupId 基本統計 ===\")\n",
    "print(f\"總資料筆數: {len(train_df)}\")\n",
    "print(f\"不重複的 GroupId 數量: {train_df['GroupId'].nunique()}\")\n",
    "print(f\"平均每個群組人數: {len(train_df) / train_df['GroupId'].nunique():.2f}\")\n",
    "\n",
    "# 群組大小分布\n",
    "group_sizes = train_df.groupby('GroupId').size()\n",
    "print(\"\\n=== 群組大小分布 ===\")\n",
    "print(group_sizes.value_counts().sort_index())"
   ]
  },
  {
   "cell_type": "code",
   "execution_count": 19,
   "id": "a8dca480",
   "metadata": {},
   "outputs": [
    {
     "name": "stdout",
     "output_type": "stream",
     "text": [
      "\n",
      "=== GroupId 與 HomePlanet 關聯性分析 ===\n",
      "HomePlanet 在群組內的一致性:\n",
      "完全一致的群組: 6107 / 6217\n",
      "一致率: 0.982\n",
      "不一致的群組數量: 0\n"
     ]
    }
   ],
   "source": [
    "print(\"\\n=== GroupId 與 HomePlanet 關聯性分析 ===\")\n",
    "\n",
    "# 檢查每個群組內 HomePlanet 的一致性\n",
    "homeplanet_consistency = train_df.groupby('GroupId')['HomePlanet'].agg(['nunique', 'count'])\n",
    "homeplanet_consistency['is_consistent'] = homeplanet_consistency['nunique'] == 1\n",
    "\n",
    "print(\"HomePlanet 在群組內的一致性:\")\n",
    "print(f\"完全一致的群組: {homeplanet_consistency['is_consistent'].sum()} / {len(homeplanet_consistency)}\")\n",
    "print(f\"一致率: {homeplanet_consistency['is_consistent'].mean():.3f}\")\n",
    "\n",
    "# 查看不一致的群組\n",
    "inconsistent_groups = homeplanet_consistency[homeplanet_consistency['nunique'] > 1]\n",
    "print(f\"不一致的群組數量: {len(inconsistent_groups)}\")"
   ]
  },
  {
   "cell_type": "code",
   "execution_count": 20,
   "id": "1b920da1",
   "metadata": {},
   "outputs": [
    {
     "name": "stdout",
     "output_type": "stream",
     "text": [
      "\n",
      "=== GroupId 與 Cabin 關聯性分析 ===\n",
      "Deck 在群組內的一致性:\n",
      "完全一致的群組: 5697 / 6217\n",
      "一致率: 0.916\n"
     ]
    }
   ],
   "source": [
    "print(\"\\n=== GroupId 與 Cabin 關聯性分析 ===\")\n",
    "\n",
    "# 提取 Cabin 的 Deck 部分進行分析\n",
    "train_df['Deck'] = train_df['Cabin'].str.split('/').str[0]\n",
    "\n",
    "# 檢查每個群組內 Deck 的一致性\n",
    "deck_consistency = train_df.groupby('GroupId')['Deck'].agg(['nunique', 'count'])\n",
    "deck_consistency['is_consistent'] = deck_consistency['nunique'] == 1\n",
    "\n",
    "print(\"Deck 在群組內的一致性:\")\n",
    "print(f\"完全一致的群組: {deck_consistency['is_consistent'].sum()} / {len(deck_consistency)}\")\n",
    "print(f\"一致率: {deck_consistency['is_consistent'].mean():.3f}\")"
   ]
  },
  {
   "cell_type": "code",
   "execution_count": 21,
   "id": "130cf91f",
   "metadata": {},
   "outputs": [],
   "source": [
    "# --- 特徵工程 ---\n",
    "# 乘客編號類似 0001_01，這邊透過 GroupId 判定是否同一家庭或同行者。\n",
    "combined['GroupId'] = combined['PassengerId'].str.split(\"_\").str[0]\n",
    "\n",
    "# 填補 HomePlanet 和 Cabin 的缺失值，基於 GroupId\n",
    "combined['HomePlanet'] = combined.groupby('GroupId')['HomePlanet'].transform(\n",
    "    lambda x: x.fillna(x.mode()[0] if not x.mode().empty else 'Unknown')\n",
    ")\n",
    "combined['Cabin'] = combined.groupby('GroupId')['Cabin'].transform(\n",
    "    lambda x: x.fillna(x.mode()[0] if not x.mode().empty else 'Unknown')\n",
    ")"
   ]
  },
  {
   "cell_type": "code",
   "execution_count": 22,
   "id": "44cd9a3d",
   "metadata": {},
   "outputs": [],
   "source": [
    "# --- 處理缺失的消費欄位，基於 CryoSleep ---\n",
    "spending_columns = ['RoomService', 'FoodCourt', 'ShoppingMall', 'Spa', 'VRDeck']\n",
    "# 確保 CryoSleep 是字串類型，先填補缺失值\n",
    "combined['CryoSleep'] = combined['CryoSleep'].fillna('False').astype(str)\n",
    "for col in spending_columns:\n",
    "    combined[col] = combined.apply(\n",
    "        lambda row: 0 if row['CryoSleep'] == 'True' and pd.isna(row[col]) else \n",
    "        row[col] if not pd.isna(row[col]) else \n",
    "        combined[col].median(), axis=1\n",
    "    )"
   ]
  },
  {
   "cell_type": "code",
   "execution_count": 23,
   "id": "6f96ce59",
   "metadata": {},
   "outputs": [
    {
     "name": "stderr",
     "output_type": "stream",
     "text": [
      "c:\\Users\\Henry\\AppData\\Local\\Programs\\Python\\Python312\\Lib\\site-packages\\numpy\\lib\\histograms.py:885: RuntimeWarning: invalid value encountered in divide\n",
      "  return n/db/n.sum(), bin_edges\n"
     ]
    },
    {
     "data": {
      "image/png": "[encoded data removed]",
      "text/plain": [
       "<Figure size 1400x600 with 2 Axes>"
      ]
     },
     "metadata": {},
     "output_type": "display_data"
    }
   ],
   "source": [
    "import matplotlib.pyplot as plt\n",
    "\n",
    "# 計算必要的統計量\n",
    "train_df['TotalSpending'] = train_df[['RoomService', 'FoodCourt', 'ShoppingMall', 'Spa', 'VRDeck']].sum(axis=1)\n",
    "true_zero_rate = (train_df[train_df['CryoSleep'] == True]['TotalSpending'] == 0).mean()\n",
    "false_zero_rate = (train_df[train_df['CryoSleep'] == False]['TotalSpending'] == 0).mean()\n",
    "\n",
    "# 建立有說服力的對比圖\n",
    "fig, (ax1, ax2) = plt.subplots(1, 2, figsize=(14, 6))\n",
    "\n",
    "# 左圖：消費分布對比\n",
    "for status in [True, False]:\n",
    "    data = train_df[train_df['CryoSleep'] == status]['TotalSpending']\n",
    "    data_nonzero = data[data > 0]  # 只看有消費的\n",
    "    \n",
    "    ax1.hist(data_nonzero, bins=30, alpha=0.7, \n",
    "             label=f'CryoSleep={status}', \n",
    "             density=True)\n",
    "\n",
    "ax1.set_xlabel('Total consumption amount')\n",
    "ax1.set_ylabel('Density')\n",
    "ax1.set_title('Consumption distribution of consumers')\n",
    "ax1.legend()\n",
    "ax1.set_yscale('log')\n",
    "\n",
    "# 右圖：零消費率對比\n",
    "categories = ['CryoSleep=True', 'CryoSleep=False']\n",
    "zero_rates = [true_zero_rate, false_zero_rate]\n",
    "colors = ['red', 'green']\n",
    "\n",
    "bars = ax2.bar(categories, zero_rates, color=colors, alpha=0.7)\n",
    "ax2.set_ylabel('zero consumption rate')\n",
    "ax2.set_title('Zero consumption rate comparison')\n",
    "ax2.set_ylim(0, 1)\n",
    "\n",
    "# 在柱狀圖上標註數值（放在柱子內部）\n",
    "for i, (bar, rate) in enumerate(zip(bars, zero_rates)):\n",
    "    ax2.text(bar.get_x() + bar.get_width()/2, bar.get_height()/2, \n",
    "             f'{rate:.1%}', ha='center', va='center', \n",
    "             fontsize=14, fontweight='bold', color='white')\n",
    "\n",
    "plt.tight_layout()\n",
    "plt.show()"
   ]
  },
  {
   "cell_type": "code",
   "execution_count": 24,
   "id": "73ee9a47",
   "metadata": {},
   "outputs": [
    {
     "name": "stdout",
     "output_type": "stream",
     "text": [
      "\n",
      "=== 結論 ===\n",
      "CryoSleep=True 的乘客有 100.0% 在所有消費項目都花費 0 元\n",
      "CryoSleep=False 的乘客僅有 9.5% 在所有消費項目都花費 0 元\n",
      "兩者差異達 90.5%\n"
     ]
    }
   ],
   "source": [
    "cryosleep_true = train_df[train_df['CryoSleep'] == True]\n",
    "cryosleep_false = train_df[train_df['CryoSleep'] == False]\n",
    "print(\"\\n=== 結論 ===\")\n",
    "cryosleep_true_zero_rate = (cryosleep_true['TotalSpending'] == 0).mean()\n",
    "cryosleep_false_zero_rate = (cryosleep_false['TotalSpending'] == 0).mean()\n",
    "\n",
    "print(f\"CryoSleep=True 的乘客有 {cryosleep_true_zero_rate:.1%} 在所有消費項目都花費 0 元\")\n",
    "print(f\"CryoSleep=False 的乘客僅有 {cryosleep_false_zero_rate:.1%} 在所有消費項目都花費 0 元\")\n",
    "print(f\"兩者差異達 {(cryosleep_true_zero_rate - cryosleep_false_zero_rate):.1%}\")"
   ]
  },
  {
   "cell_type": "code",
   "execution_count": 25,
   "id": "2c9bfd57",
   "metadata": {},
   "outputs": [
    {
     "name": "stdout",
     "output_type": "stream",
     "text": [
      "=== VIP 欄位基本分析 ===\n",
      "VIP 原始資料類型: object\n",
      "VIP 值分布:\n",
      "VIP\n",
      "False    8291\n",
      "NaN       203\n",
      "True      199\n",
      "Name: count, dtype: int64\n",
      "VIP 缺失率: 0.023\n",
      "\n",
      "VIP 獨特值: [False True nan]\n"
     ]
    }
   ],
   "source": [
    "import pandas as pd\n",
    "import numpy as np\n",
    "import matplotlib.pyplot as plt\n",
    "\n",
    "# 讀取資料\n",
    "train_df = pd.read_csv(\"train.csv\")\n",
    "\n",
    "print(\"=== VIP 欄位基本分析 ===\")\n",
    "print(\"VIP 原始資料類型:\", train_df['VIP'].dtype)\n",
    "print(\"VIP 值分布:\")\n",
    "print(train_df['VIP'].value_counts(dropna=False))\n",
    "print(f\"VIP 缺失率: {train_df['VIP'].isna().mean():.3f}\")\n",
    "\n",
    "# 檢查獨特值\n",
    "print(f\"\\nVIP 獨特值: {train_df['VIP'].unique()}\")"
   ]
  },
  {
   "cell_type": "code",
   "execution_count": 26,
   "id": "8c0167d0",
   "metadata": {},
   "outputs": [],
   "source": [
    "# --- 從 Cabin 提取特徵 ---\n",
    "combined[[\"Deck\", \"CabinNum\", \"Side\"]] = combined[\"Cabin\"].str.split(\"/\", expand=True)\n",
    "combined[\"CabinNum\"] = pd.to_numeric(combined[\"CabinNum\"], errors='coerce')\n",
    "\n",
    "# --- 計算 TotalSpend ---\n",
    "combined[\"TotalSpend\"] = combined[[\"RoomService\", \"FoodCourt\", \"ShoppingMall\", \"Spa\", \"VRDeck\"]].sum(axis=1)\n",
    "\n",
    "# --- 處理 VIP 欄位，統一為字串 ---\n",
    "combined['VIP'] = combined['VIP'].fillna('False').astype(str)  # 直接填補為字串 'False'，不再轉為布林值"
   ]
  },
  {
   "cell_type": "code",
   "execution_count": 27,
   "id": "749cc802",
   "metadata": {},
   "outputs": [
    {
     "name": "stdout",
     "output_type": "stream",
     "text": [
      "\n",
      "=== 預測力比較：為什麼需要 TotalSpend ===\n",
      "RoomService vs Transported: -0.2446\n",
      "FoodCourt vs Transported: 0.0466\n",
      "ShoppingMall vs Transported: 0.0101\n",
      "Spa vs Transported: -0.2211\n",
      "VRDeck vs Transported: -0.2071\n",
      "TotalSpend vs Transported: -0.1995\n",
      "\n",
      "🔥 關鍵比較:\n",
      "最強個別項目相關性: 0.2446\n",
      "TotalSpend 相關性: 0.1995\n",
      "TotalSpend 提升: -18.4%\n"
     ]
    }
   ],
   "source": [
    "import pandas as pd\n",
    "import numpy as np\n",
    "import matplotlib.pyplot as plt\n",
    "\n",
    "# 讀取資料\n",
    "train_df = pd.read_csv(\"train.csv\")\n",
    "spending_columns = ['RoomService', 'FoodCourt', 'ShoppingMall', 'Spa', 'VRDeck']\n",
    "\n",
    "# 先創建 TotalSpend 欄位\n",
    "train_df[\"TotalSpend\"] = train_df[spending_columns].sum(axis=1)\n",
    "\n",
    "print(\"\\n=== 預測力比較：為什麼需要 TotalSpend ===\")\n",
    "\n",
    "# 計算每個消費項目與 Transported 的相關性\n",
    "correlations = {}\n",
    "for col in spending_columns:\n",
    "    corr = train_df[col].corr(train_df['Transported'])\n",
    "    correlations[col] = corr\n",
    "    print(f\"{col} vs Transported: {corr:.4f}\")\n",
    "\n",
    "# TotalSpend 的相關性\n",
    "total_corr = train_df['TotalSpend'].corr(train_df['Transported'])\n",
    "correlations['TotalSpend'] = total_corr\n",
    "print(f\"TotalSpend vs Transported: {total_corr:.4f}\")\n",
    "\n",
    "# 找出最強的個別項目\n",
    "max_individual = max([abs(v) for k, v in correlations.items() if k != 'TotalSpend'])\n",
    "print(f\"\\n🔥 關鍵比較:\")\n",
    "print(f\"最強個別項目相關性: {max_individual:.4f}\")\n",
    "print(f\"TotalSpend 相關性: {abs(total_corr):.4f}\")\n",
    "print(f\"TotalSpend 提升: {(abs(total_corr) - max_individual)/max_individual:.1%}\")"
   ]
  },
  {
   "cell_type": "code",
   "execution_count": 28,
   "id": "604b9fb2",
   "metadata": {},
   "outputs": [
    {
     "data": {
      "image/png": "[encoded data removed]",
      "text/plain": [
       "<Figure size 1000x600 with 1 Axes>"
      ]
     },
     "metadata": {},
     "output_type": "display_data"
    }
   ],
   "source": [
    "import matplotlib.pyplot as plt\n",
    "\n",
    "# 右圖：相關性強度比較\n",
    "plt.figure(figsize=(10, 6))\n",
    "\n",
    "features = list(correlations.keys())\n",
    "corr_values = [abs(correlations[f]) for f in features]\n",
    "colors = ['lightblue'] * (len(features)-1) + ['red']  # TotalSpend 用紅色突出\n",
    "\n",
    "bars = plt.bar(features, corr_values, color=colors)\n",
    "plt.title('Correlation comparison with Transported')\n",
    "plt.ylabel('Correlation coefficient (absolute value)')\n",
    "plt.xticks(rotation=45)\n",
    "\n",
    "# 在 TotalSpend 上標註\n",
    "total_bar = bars[-1]\n",
    "plt.text(total_bar.get_x() + total_bar.get_width()/2, \n",
    "         total_bar.get_height() + 0.002, \n",
    "         f'{abs(total_corr):.4f}', \n",
    "         ha='center', va='bottom', fontweight='bold', color='red')\n",
    "\n",
    "plt.tight_layout()\n",
    "plt.show()"
   ]
  },
  {
   "cell_type": "code",
   "execution_count": 29,
   "id": "0e42ab8f",
   "metadata": {},
   "outputs": [],
   "source": [
    "# --- 處理其他類別型欄位 ---\n",
    "combined['CryoSleep'] = combined['CryoSleep'].astype(str)\n",
    "combined['HomePlanet'] = combined['HomePlanet'].fillna('Unknown').astype(str)\n",
    "combined['Destination'] = combined['Destination'].fillna('Unknown').astype(str)\n",
    "combined['Deck'] = combined['Deck'].fillna('Unknown').astype(str)\n",
    "combined['Side'] = combined['Side'].fillna('Unknown').astype(str)"
   ]
  },
  {
   "cell_type": "code",
   "execution_count": 30,
   "id": "1f103df3",
   "metadata": {},
   "outputs": [],
   "source": [
    "# --- 確保所有類別欄位為字串型態 ---\n",
    "categorical_cols = [\"HomePlanet\", \"Destination\", \"Deck\", \"Side\", \"CryoSleep\", \"VIP\"]\n",
    "#for col in categorical_cols:\n",
    "    #combined[col] = combined[col].astype(str)  # 強制轉為字串\n",
    "\n",
    "# --- 數值和類別欄位 ---\n",
    "numerical_cols = [\"Age\", \"RoomService\", \"FoodCourt\", \"ShoppingMall\", \"Spa\", \"VRDeck\", \"TotalSpend\", \"CabinNum\", \"GroupSize\"]"
   ]
  },
  {
   "cell_type": "code",
   "execution_count": 31,
   "id": "98ac54aa",
   "metadata": {},
   "outputs": [],
   "source": [
    "# --- 創建 GroupSize 特徵 ---\n",
    "group_size = combined.groupby('GroupId')['PassengerId'].transform('count')\n",
    "combined['GroupSize'] = group_size"
   ]
  },
  {
   "cell_type": "code",
   "execution_count": null,
   "id": "f26d182c",
   "metadata": {},
   "outputs": [
    {
     "name": "stdout",
     "output_type": "stream",
     "text": [
      "Epoch 1/50\n"
     ]
    },
    {
     "name": "stderr",
     "output_type": "stream",
     "text": [
      "c:\\Users\\Henry\\AppData\\Local\\Programs\\Python\\Python312\\Lib\\site-packages\\keras\\src\\layers\\core\\dense.py:87: UserWarning: Do not pass an `input_shape`/`input_dim` argument to a layer. When using Sequential models, prefer using an `Input(shape)` object as the first layer in the model instead.\n",
      "  super().__init__(activity_regularizer=activity_regularizer, **kwargs)\n"
     ]
    },
    {
     "name": "stdout",
     "output_type": "stream",
     "text": [
      "\u001b[1m218/218\u001b[0m \u001b[32m━━━━━━━━━━━━━━━━━━━━\u001b[0m\u001b[37m\u001b[0m \u001b[1m3s\u001b[0m 5ms/step - accuracy: 0.6551 - loss: 0.6225 - val_accuracy: 0.7838 - val_loss: 0.4554\n",
      "Epoch 2/50\n",
      "\u001b[1m218/218\u001b[0m \u001b[32m━━━━━━━━━━━━━━━━━━━━\u001b[0m\u001b[37m\u001b[0m \u001b[1m1s\u001b[0m 3ms/step - accuracy: 0.7686 - loss: 0.4699 - val_accuracy: 0.7849 - val_loss: 0.4543\n",
      "Epoch 3/50\n",
      "\u001b[1m218/218\u001b[0m \u001b[32m━━━━━━━━━━━━━━━━━━━━\u001b[0m\u001b[37m\u001b[0m \u001b[1m1s\u001b[0m 3ms/step - accuracy: 0.7849 - loss: 0.4391 - val_accuracy: 0.7855 - val_loss: 0.4458\n",
      "Epoch 4/50\n",
      "\u001b[1m218/218\u001b[0m \u001b[32m━━━━━━━━━━━━━━━━━━━━\u001b[0m\u001b[37m\u001b[0m \u001b[1m1s\u001b[0m 3ms/step - accuracy: 0.7961 - loss: 0.4232 - val_accuracy: 0.7723 - val_loss: 0.4807\n",
      "Epoch 5/50\n",
      "\u001b[1m218/218\u001b[0m \u001b[32m━━━━━━━━━━━━━━━━━━━━\u001b[0m\u001b[37m\u001b[0m \u001b[1m1s\u001b[0m 4ms/step - accuracy: 0.7907 - loss: 0.4238 - val_accuracy: 0.7890 - val_loss: 0.4573\n",
      "Epoch 6/50\n",
      "\u001b[1m218/218\u001b[0m \u001b[32m━━━━━━━━━━━━━━━━━━━━\u001b[0m\u001b[37m\u001b[0m \u001b[1m1s\u001b[0m 3ms/step - accuracy: 0.8015 - loss: 0.4113 - val_accuracy: 0.7665 - val_loss: 0.5059\n",
      "Epoch 7/50\n",
      "\u001b[1m218/218\u001b[0m \u001b[32m━━━━━━━━━━━━━━━━━━━━\u001b[0m\u001b[37m\u001b[0m \u001b[1m1s\u001b[0m 3ms/step - accuracy: 0.8049 - loss: 0.4100 - val_accuracy: 0.7717 - val_loss: 0.4991\n",
      "Epoch 8/50\n",
      "\u001b[1m218/218\u001b[0m \u001b[32m━━━━━━━━━━━━━━━━━━━━\u001b[0m\u001b[37m\u001b[0m \u001b[1m1s\u001b[0m 3ms/step - accuracy: 0.7995 - loss: 0.4001 - val_accuracy: 0.7527 - val_loss: 0.5523\n",
      "Epoch 9/50\n",
      "\u001b[1m218/218\u001b[0m \u001b[32m━━━━━━━━━━━━━━━━━━━━\u001b[0m\u001b[37m\u001b[0m \u001b[1m1s\u001b[0m 3ms/step - accuracy: 0.8107 - loss: 0.3873 - val_accuracy: 0.7711 - val_loss: 0.4989\n",
      "Epoch 10/50\n",
      "\u001b[1m218/218\u001b[0m \u001b[32m━━━━━━━━━━━━━━━━━━━━\u001b[0m\u001b[37m\u001b[0m \u001b[1m1s\u001b[0m 3ms/step - accuracy: 0.8009 - loss: 0.3943 - val_accuracy: 0.7849 - val_loss: 0.4730\n",
      "Epoch 11/50\n",
      "\u001b[1m218/218\u001b[0m \u001b[32m━━━━━━━━━━━━━━━━━━━━\u001b[0m\u001b[37m\u001b[0m \u001b[1m1s\u001b[0m 3ms/step - accuracy: 0.8066 - loss: 0.3934 - val_accuracy: 0.7821 - val_loss: 0.4982\n",
      "Epoch 12/50\n",
      "\u001b[1m218/218\u001b[0m \u001b[32m━━━━━━━━━━━━━━━━━━━━\u001b[0m\u001b[37m\u001b[0m \u001b[1m1s\u001b[0m 3ms/step - accuracy: 0.8075 - loss: 0.3922 - val_accuracy: 0.7838 - val_loss: 0.5178\n",
      "Epoch 13/50\n",
      "\u001b[1m218/218\u001b[0m \u001b[32m━━━━━━━━━━━━━━━━━━━━\u001b[0m\u001b[37m\u001b[0m \u001b[1m1s\u001b[0m 3ms/step - accuracy: 0.8179 - loss: 0.3851 - val_accuracy: 0.7694 - val_loss: 0.5580\n",
      "Epoch 14/50\n",
      "\u001b[1m218/218\u001b[0m \u001b[32m━━━━━━━━━━━━━━━━━━━━\u001b[0m\u001b[37m\u001b[0m \u001b[1m1s\u001b[0m 3ms/step - accuracy: 0.8164 - loss: 0.3874 - val_accuracy: 0.7723 - val_loss: 0.5305\n",
      "Epoch 15/50\n",
      "\u001b[1m218/218\u001b[0m \u001b[32m━━━━━━━━━━━━━━━━━━━━\u001b[0m\u001b[37m\u001b[0m \u001b[1m1s\u001b[0m 4ms/step - accuracy: 0.8119 - loss: 0.3876 - val_accuracy: 0.7763 - val_loss: 0.5279\n",
      "Epoch 16/50\n",
      "\u001b[1m218/218\u001b[0m \u001b[32m━━━━━━━━━━━━━━━━━━━━\u001b[0m\u001b[37m\u001b[0m \u001b[1m1s\u001b[0m 4ms/step - accuracy: 0.8098 - loss: 0.3887 - val_accuracy: 0.7815 - val_loss: 0.5130\n",
      "Epoch 17/50\n",
      "\u001b[1m218/218\u001b[0m \u001b[32m━━━━━━━━━━━━━━━━━━━━\u001b[0m\u001b[37m\u001b[0m \u001b[1m1s\u001b[0m 5ms/step - accuracy: 0.8183 - loss: 0.3818 - val_accuracy: 0.7792 - val_loss: 0.5146\n",
      "Epoch 18/50\n",
      "\u001b[1m218/218\u001b[0m \u001b[32m━━━━━━━━━━━━━━━━━━━━\u001b[0m\u001b[37m\u001b[0m \u001b[1m1s\u001b[0m 5ms/step - accuracy: 0.8159 - loss: 0.3806 - val_accuracy: 0.7700 - val_loss: 0.5844\n",
      "Epoch 19/50\n",
      "\u001b[1m218/218\u001b[0m \u001b[32m━━━━━━━━━━━━━━━━━━━━\u001b[0m\u001b[37m\u001b[0m \u001b[1m1s\u001b[0m 6ms/step - accuracy: 0.8133 - loss: 0.3819 - val_accuracy: 0.7838 - val_loss: 0.5342\n",
      "Epoch 20/50\n",
      "\u001b[1m218/218\u001b[0m \u001b[32m━━━━━━━━━━━━━━━━━━━━\u001b[0m\u001b[37m\u001b[0m \u001b[1m1s\u001b[0m 5ms/step - accuracy: 0.8134 - loss: 0.3864 - val_accuracy: 0.7798 - val_loss: 0.5458\n",
      "Epoch 21/50\n",
      "\u001b[1m218/218\u001b[0m \u001b[32m━━━━━━━━━━━━━━━━━━━━\u001b[0m\u001b[37m\u001b[0m \u001b[1m1s\u001b[0m 5ms/step - accuracy: 0.8053 - loss: 0.3879 - val_accuracy: 0.7844 - val_loss: 0.5240\n",
      "Epoch 22/50\n",
      "\u001b[1m218/218\u001b[0m \u001b[32m━━━━━━━━━━━━━━━━━━━━\u001b[0m\u001b[37m\u001b[0m \u001b[1m1s\u001b[0m 5ms/step - accuracy: 0.8236 - loss: 0.3785 - val_accuracy: 0.7867 - val_loss: 0.5178\n",
      "Epoch 23/50\n",
      "\u001b[1m218/218\u001b[0m \u001b[32m━━━━━━━━━━━━━━━━━━━━\u001b[0m\u001b[37m\u001b[0m \u001b[1m1s\u001b[0m 4ms/step - accuracy: 0.8194 - loss: 0.3751 - val_accuracy: 0.7838 - val_loss: 0.5295\n",
      "Epoch 24/50\n",
      "\u001b[1m218/218\u001b[0m \u001b[32m━━━━━━━━━━━━━━━━━━━━\u001b[0m\u001b[37m\u001b[0m \u001b[1m1s\u001b[0m 4ms/step - accuracy: 0.8193 - loss: 0.3762 - val_accuracy: 0.7849 - val_loss: 0.5110\n",
      "Epoch 25/50\n",
      "\u001b[1m218/218\u001b[0m \u001b[32m━━━━━━━━━━━━━━━━━━━━\u001b[0m\u001b[37m\u001b[0m \u001b[1m1s\u001b[0m 5ms/step - accuracy: 0.8222 - loss: 0.3673 - val_accuracy: 0.7821 - val_loss: 0.5252\n",
      "Epoch 26/50\n",
      "\u001b[1m218/218\u001b[0m \u001b[32m━━━━━━━━━━━━━━━━━━━━\u001b[0m\u001b[37m\u001b[0m \u001b[1m1s\u001b[0m 5ms/step - accuracy: 0.8246 - loss: 0.3708 - val_accuracy: 0.7786 - val_loss: 0.5656\n",
      "Epoch 27/50\n",
      "\u001b[1m218/218\u001b[0m \u001b[32m━━━━━━━━━━━━━━━━━━━━\u001b[0m\u001b[37m\u001b[0m \u001b[1m2s\u001b[0m 6ms/step - accuracy: 0.8147 - loss: 0.3732 - val_accuracy: 0.7809 - val_loss: 0.5522\n",
      "Epoch 28/50\n",
      "\u001b[1m218/218\u001b[0m \u001b[32m━━━━━━━━━━━━━━━━━━━━\u001b[0m\u001b[37m\u001b[0m \u001b[1m2s\u001b[0m 5ms/step - accuracy: 0.8158 - loss: 0.3778 - val_accuracy: 0.7826 - val_loss: 0.5333\n",
      "Epoch 29/50\n",
      "\u001b[1m218/218\u001b[0m \u001b[32m━━━━━━━━━━━━━━━━━━━━\u001b[0m\u001b[37m\u001b[0m \u001b[1m1s\u001b[0m 5ms/step - accuracy: 0.8116 - loss: 0.3701 - val_accuracy: 0.7775 - val_loss: 0.5501\n",
      "Epoch 30/50\n",
      "\u001b[1m218/218\u001b[0m \u001b[32m━━━━━━━━━━━━━━━━━━━━\u001b[0m\u001b[37m\u001b[0m \u001b[1m1s\u001b[0m 2ms/step - accuracy: 0.8110 - loss: 0.3708 - val_accuracy: 0.7867 - val_loss: 0.5283\n",
      "Epoch 31/50\n",
      "\u001b[1m218/218\u001b[0m \u001b[32m━━━━━━━━━━━━━━━━━━━━\u001b[0m\u001b[37m\u001b[0m \u001b[1m1s\u001b[0m 2ms/step - accuracy: 0.8169 - loss: 0.3770 - val_accuracy: 0.7878 - val_loss: 0.5240\n",
      "Epoch 32/50\n",
      "\u001b[1m218/218\u001b[0m \u001b[32m━━━━━━━━━━━━━━━━━━━━\u001b[0m\u001b[37m\u001b[0m \u001b[1m1s\u001b[0m 2ms/step - accuracy: 0.8152 - loss: 0.3805 - val_accuracy: 0.7809 - val_loss: 0.5625\n",
      "Epoch 33/50\n",
      "\u001b[1m218/218\u001b[0m \u001b[32m━━━━━━━━━━━━━━━━━━━━\u001b[0m\u001b[37m\u001b[0m \u001b[1m1s\u001b[0m 2ms/step - accuracy: 0.8210 - loss: 0.3590 - val_accuracy: 0.7746 - val_loss: 0.5520\n",
      "Epoch 34/50\n",
      "\u001b[1m218/218\u001b[0m \u001b[32m━━━━━━━━━━━━━━━━━━━━\u001b[0m\u001b[37m\u001b[0m \u001b[1m1s\u001b[0m 3ms/step - accuracy: 0.8189 - loss: 0.3707 - val_accuracy: 0.7872 - val_loss: 0.5274\n",
      "Epoch 35/50\n",
      "\u001b[1m218/218\u001b[0m \u001b[32m━━━━━━━━━━━━━━━━━━━━\u001b[0m\u001b[37m\u001b[0m \u001b[1m0s\u001b[0m 2ms/step - accuracy: 0.8172 - loss: 0.3696 - val_accuracy: 0.7844 - val_loss: 0.5228\n",
      "Epoch 36/50\n",
      "\u001b[1m218/218\u001b[0m \u001b[32m━━━━━━━━━━━━━━━━━━━━\u001b[0m\u001b[37m\u001b[0m \u001b[1m1s\u001b[0m 2ms/step - accuracy: 0.8218 - loss: 0.3622 - val_accuracy: 0.7775 - val_loss: 0.5696\n",
      "Epoch 37/50\n",
      "\u001b[1m139/218\u001b[0m \u001b[32m━━━━━━━━━━━━\u001b[0m\u001b[37m━━━━━━━━\u001b[0m \u001b[1m0s\u001b[0m 1ms/step - accuracy: 0.8209 - loss: 0.3628"
     ]
    }
   ],
   "source": [
    "# --- 建立 Pipeline 進行特徵處理 ---\n",
    "# 數值型特徵處理：填補中位數並標準化\n",
    "numerical_transformer = Pipeline(steps=[\n",
    "    ('imputer', SimpleImputer(strategy='median')),\n",
    "    ('scaler', StandardScaler())\n",
    "])\n",
    "\n",
    "# 類別型特徵處理：填補 'Missing' 並進行 OneHotEncoder 編碼\n",
    "categorical_transformer = Pipeline(steps=[\n",
    "    ('imputer', SimpleImputer(strategy='constant', fill_value='Missing_Category')),\n",
    "    ('onehot', OneHotEncoder(handle_unknown='ignore'))\n",
    "])\n",
    "\n",
    "# --- 處理器 --- 處理特徵並進行OneHot編碼\n",
    "# 使用 ColumnTransformer 將不同處理方式應用於不同欄位\n",
    "preprocessor = ColumnTransformer(\n",
    "    transformers=[\n",
    "        ('num', numerical_transformer, numerical_cols),\n",
    "        ('cat', categorical_transformer, categorical_cols)\n",
    "    ],\n",
    "    remainder='drop'  # 忽略未指定的欄位\n",
    ")\n",
    "\n",
    "# 分割回訓練與測試集\n",
    "train_processed = combined[combined[\"is_train\"] == 1]\n",
    "test_processed = combined[combined[\"is_train\"] == 0]\n",
    "\n",
    "# 特徵欄位與目標欄位\n",
    "X = train_processed[numerical_cols + categorical_cols]\n",
    "y = train_processed[\"Transported\"].astype(int)\n",
    "X_test = test_processed[numerical_cols + categorical_cols]\n",
    "\n",
    "# --- 整合特徵處理與 Keras 模型訓練 ---\n",
    "# 在訓練模型前，先處理特徵\n",
    "X_transformed = preprocessor.fit_transform(X)\n",
    "X_test_transformed = preprocessor.transform(X_test)\n",
    "\n",
    "# 建立神經網路模型\n",
    "model = Sequential()\n",
    "\n",
    "# 輸入層與第一隱藏層，使用 64 個神經元，並添加 Dropout 層以防止過擬合\n",
    "model.add(Dense(units=64, input_dim=X_transformed.shape[1], activation='relu'))\n",
    "model.add(Dropout(0.3))\n",
    "\n",
    "# 第二隱藏層\n",
    "model.add(Dense(units=32, activation='relu'))\n",
    "model.add(Dropout(0.3))\n",
    "\n",
    "# 輸出層：二分類問題，使用 sigmoid 激活函數\n",
    "model.add(Dense(units=1, activation='sigmoid'))\n",
    "\n",
    "# 編譯模型，使用 Adam 優化器與二元交叉熵損失函數\n",
    "model.compile(optimizer=Adam(learning_rate=0.001), loss='binary_crossentropy', metrics=['accuracy'])\n",
    "\n",
    "# 訓練模型\n",
    "history = model.fit(X_transformed, y, epochs=50, batch_size=32, validation_split=0.2, verbose=1)\n",
    "\n",
    "# 預測測試集\n",
    "predictions = model.predict(X_test_transformed)\n",
    "predictions = (predictions > 0.5).astype(int)  # 將機率轉為 0 或 1\n",
    "\n",
    "# 輸出結果\n",
    "submission = pd.DataFrame({\n",
    "    \"PassengerId\": passenger_ids,\n",
    "    \"Transported\": predictions.flatten().astype(bool)  # 確保結果為布林值\n",
    "})\n",
    "\n",
    "# 儲存結果\n",
    "submission_filename = \"submission_nn_improved.csv\"\n",
    "submission.to_csv(submission_filename, index=False)\n",
    "print(f\"\\n已儲存 {submission_filename}\")"
   ]
  },
  {
   "cell_type": "markdown",
   "id": "6afd5a70",
   "metadata": {},
   "source": []
  }
 ],
 "metadata": {
  "kernelspec": {
   "display_name": "Python 3",
   "language": "python",
   "name": "python3"
  },
  "language_info": {
   "codemirror_mode": {
    "name": "ipython",
    "version": 3
   },
   "file_extension": ".py",
   "mimetype": "text/x-python",
   "name": "python",
   "nbconvert_exporter": "python",
   "pygments_lexer": "ipython3",
   "version": "3.12.4"
  }
 },
 "nbformat": 4,
 "nbformat_minor": 5
}
